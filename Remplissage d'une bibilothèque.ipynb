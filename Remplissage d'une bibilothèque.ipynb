{
 "cells": [
  {
   "cell_type": "code",
   "execution_count": 2,
   "metadata": {},
   "outputs": [],
   "source": [
    "%matplotlib inline     \n",
    "# ^Sans animations\n",
    "# %matplotlib notebook \n",
    "# ^Avec animations\n",
    "import numpy as np\n",
    "import matplotlib.pyplot as plt\n",
    "from matplotlib import animation"
   ]
  },
  {
   "cell_type": "markdown",
   "metadata": {},
   "source": [
    "## Partie I : Etude de remplissage d'une bibliothèque"
   ]
  },
  {
   "cell_type": "markdown",
   "metadata": {},
   "source": [
    "### I. Evolution du remplissage de la bibliothèque en tenant compte de probabilité\n",
    " "
   ]
  },
  {
   "cell_type": "markdown",
   "metadata": {},
   "source": [
    "Nous allons modeliser l'évolution de l'affluence dans la bibliothèque des Licences au cours du temps."
   ]
  },
  {
   "cell_type": "markdown",
   "metadata": {},
   "source": [
    "Nous disposons des horaires et du nombre de place de la bibliothèque "
   ]
  },
  {
   "cell_type": "code",
   "execution_count": 411,
   "metadata": {},
   "outputs": [],
   "source": [
    "# aff : le taux d'affluence actuelle\n",
    "# afflim : le taux d'affluence à partir duquel la personne hésite\n",
    "# p1 : la probabilité que la personne ne rentre pas dans la bibliothèque\n",
    "\n",
    "def alea_entree(aff,afflim,p1):\n",
    "    '''\n",
    "    float->int\n",
    "    en fonction du taux d'affluence et d'une probabilité ,retourne 1 si l'élève rentre, sinon 0.\n",
    "    '''\n",
    "    if aff>=afflim :\n",
    "        u = np.random.random() # u est un nombre aléatoire entre 0 et 1\n",
    "        if u < p1: \n",
    "            return 0\n",
    "    return 1"
   ]
  },
  {
   "cell_type": "code",
   "execution_count": 412,
   "metadata": {},
   "outputs": [],
   "source": [
    "# aff : le taux d'affluence actuelle\n",
    "# afflim : le taux d'affluence à partir duquel la personne hésite\n",
    "# p2 : la probabilité que la personne ne sort pas de la bibliothèque\n",
    "\n",
    "p2 =.95\n",
    "def alea_sortie(aff,afflim,p2):\n",
    "    '''\n",
    "    float->int\n",
    "    en fonction du taux d'affluence et d'une probabilité p2,retourne 1 si l'élève sort, sinon 0 0.\n",
    "    '''\n",
    "    if aff>=afflim :\n",
    "        u = np.random.random()  # u est un nombre aléatoire entre 0 et 1\n",
    "        if u < p2: \n",
    "            return 0\n",
    "        else:\n",
    "            return 1\n",
    "    return 0"
   ]
  },
  {
   "cell_type": "code",
   "execution_count": 413,
   "metadata": {},
   "outputs": [],
   "source": [
    "#bt0: nombre initial de personne dans la bibliothèque. \n",
    "#btmax: nombre de places de la bibliothèque.\n",
    "# aff : le taux d'affluence actuelle\n",
    "# afflim : le taux d'affluence à partir duquel la personne hésite\n",
    "# p1 : la probabilité que la personne ne rentre pas dans la bibliothèque\n",
    "# p2 : la probabilité que la personne ne sort pas de la bibliothèque\n",
    "#n : nombre de cycle entrée/sortie\n",
    "\n",
    "def bibliothèque(bt0,btmax,afflim,p1,p2,n):\n",
    "    ''' hyp : bt0 <= btmax\n",
    "        Evolution du nombre de place occupé dans la bibliothèque.'''\n",
    "    \n",
    "    bt=bt0\n",
    "    aff=bt/btmax\n",
    "    L=[bt0] #Evolution de l'occupation\n",
    "    for i in range(n):\n",
    "        a = alea_entree(aff,afflim,p1)\n",
    "        b = alea_sortie(aff,afflim,p2)\n",
    "        if bt < btmax:\n",
    "            bt += a\n",
    "        if bt>0:\n",
    "            bt-=b\n",
    "        L.append(bt)\n",
    "        aff=bt/btmax\n",
    "    return L\n",
    "        \n",
    "        \n",
    "        \n",
    "        "
   ]
  },
  {
   "cell_type": "markdown",
   "metadata": {},
   "source": [
    "affichons la courbe de l'évolution de l'occupation de la bibliothèque sur un nombre de tour"
   ]
  },
  {
   "cell_type": "code",
   "execution_count": 414,
   "metadata": {},
   "outputs": [
    {
     "data": {
      "image/png": "[encoded data removed]",
      "text/plain": [
       "<Figure size 432x288 with 1 Axes>"
      ]
     },
     "metadata": {},
     "output_type": "display_data"
    }
   ],
   "source": [
    "def plotb0(L):\n",
    "    plt.figure()\n",
    "    plt.plot(L)\n",
    "    plt.ylabel(\"Nombre de personne dans la bibliothèque\")\n",
    "    plt.xlabel(\"nombre de tour\")\n",
    "    plt.show()\n",
    "    return\n",
    "plotb0(bibliothèque(700,745,.8,.9,.95,200))"
   ]
  },
  {
   "cell_type": "markdown",
   "metadata": {},
   "source": [
    "Nous allons coder ci-dessous les fonctions de conversion dont nous aurons besoin."
   ]
  },
  {
   "cell_type": "markdown",
   "metadata": {},
   "source": [
    "### II. changement de format pour les jours de la semaine\n",
    "\n",
    "\"jour\" -> int"
   ]
  },
  {
   "cell_type": "code",
   "execution_count": 415,
   "metadata": {},
   "outputs": [],
   "source": [
    "def conversion1_jour(jour):\n",
    "    ''' str * dict -> int\n",
    "        Conversion : str -> int pour les jours de la semaine '''\n",
    "    Jour1 = {'lundi':0,'mardi':1,'mercredi':2,'jeudi':3,'vendredi':4,'samedi':5,'dimanche':6}\n",
    "    return (Jour1[jour])"
   ]
  },
  {
   "cell_type": "code",
   "execution_count": 416,
   "metadata": {},
   "outputs": [
    {
     "data": {
      "text/plain": [
       "1"
      ]
     },
     "execution_count": 416,
     "metadata": {},
     "output_type": "execute_result"
    }
   ],
   "source": [
    "conversion1_jour(\"mardi\")"
   ]
  },
  {
   "cell_type": "markdown",
   "metadata": {},
   "source": [
    "int -> \"jour\""
   ]
  },
  {
   "cell_type": "code",
   "execution_count": 417,
   "metadata": {},
   "outputs": [],
   "source": [
    "def conversion2_jour(jour):\n",
    "    ''' int -> str\n",
    "        Conversion : int -> str pour les jours de la semaine '''\n",
    "    Jour2 = {0:'lundi' ,1:'mardi',2:'mercredi',3:'jeudi',4:'vendredi',5:'samedi',6:'dimanche'}\n",
    "    return (Jour2[jour])"
   ]
  },
  {
   "cell_type": "code",
   "execution_count": 418,
   "metadata": {},
   "outputs": [
    {
     "data": {
      "text/plain": [
       "'lundi'"
      ]
     },
     "execution_count": 418,
     "metadata": {},
     "output_type": "execute_result"
    }
   ],
   "source": [
    "conversion2_jour(0)"
   ]
  },
  {
   "cell_type": "markdown",
   "metadata": {},
   "source": [
    "** changement de format pour l'heure **\n",
    "\n",
    "\"heure minute seconde\"  -> float(4 décimales)"
   ]
  },
  {
   "cell_type": "code",
   "execution_count": 419,
   "metadata": {},
   "outputs": [],
   "source": [
    "def conversion1_heure(heure_format):\n",
    "    ''' str -> float\n",
    "        Conversion : heure/minute/seconde -> float'''\n",
    "    Hentree = list(map(int,heure_format.split()))\n",
    "    seconde = 0\n",
    "    p= 2\n",
    "    for i in Hentree:\n",
    "        seconde += i * pow(60,p)\n",
    "        p-=1\n",
    "    return ( round(seconde/3600,4) )"
   ]
  },
  {
   "cell_type": "code",
   "execution_count": 420,
   "metadata": {},
   "outputs": [
    {
     "data": {
      "text/plain": [
       "12.7014"
      ]
     },
     "execution_count": 420,
     "metadata": {},
     "output_type": "execute_result"
    }
   ],
   "source": [
    "# 12 h 42 et 5 secondes\n",
    "conversion1_heure(\"12 42 5\")"
   ]
  },
  {
   "cell_type": "markdown",
   "metadata": {},
   "source": [
    "float(4 décimales) -> \"heure minute seconde\""
   ]
  },
  {
   "cell_type": "code",
   "execution_count": 421,
   "metadata": {},
   "outputs": [],
   "source": [
    "def conversion2_heure(heure_format):\n",
    "    '''float -> str\n",
    "       Conversion : float -> heure/minute/seconde'''\n",
    "    H = ''\n",
    "    heure = int(heure_format)\n",
    "    seconde = round( (heure_format - heure) * 3600 )\n",
    "    H += str(heure) + ' ' + str(seconde//60) + ' ' + str(seconde%60)\n",
    "    return H"
   ]
  },
  {
   "cell_type": "code",
   "execution_count": 422,
   "metadata": {},
   "outputs": [
    {
     "data": {
      "text/plain": [
       "'1 30 0'"
      ]
     },
     "execution_count": 422,
     "metadata": {},
     "output_type": "execute_result"
    }
   ],
   "source": [
    "conversion2_heure(1.5)"
   ]
  },
  {
   "cell_type": "markdown",
   "metadata": {},
   "source": [
    "### III. Ici nous etudions l'evolution du remplissage de la bibliothèque en fonction du temps  "
   ]
  },
  {
   "cell_type": "code",
   "execution_count": 423,
   "metadata": {},
   "outputs": [],
   "source": [
    "# Exemple : horaire pour la BDL\n",
    "horaire = [(9,22) , (9,22) , (9,22) , (9,22) , (9,22) , (10,20),(0,0)]\n",
    "\n",
    "def est_ouvert(heure,jour,horaire):\n",
    "    '''float * str * dict[tuple] -> bool\n",
    "    indique si la bibliotheque est ouverte ou fermée en fonction de l'heure actuelle 'heure', \n",
    "    du jour de la semaine 'jour' et des horaires d'ouverture 'horaire'  '''\n",
    "    j = conversion1_jour(jour)\n",
    "    date = horaire[j]\n",
    "    if date!= (0,0):\n",
    "        ouverture = date[0]\n",
    "        fermeture = date[1]\n",
    "        return ouverture <= heure < fermeture\n",
    "    return False"
   ]
  },
  {
   "cell_type": "code",
   "execution_count": 424,
   "metadata": {},
   "outputs": [
    {
     "name": "stdout",
     "output_type": "stream",
     "text": [
      "False\n"
     ]
    }
   ],
   "source": [
    "# Exemple : On teste si la bibliothèque est ouverte le lundi à 11h.\n",
    "print( est_ouvert(22,'lundi',horaire) )"
   ]
  },
  {
   "cell_type": "markdown",
   "metadata": {},
   "source": [
    "Nouvelle modélisation en tenant compte du paramètre horaire.\n",
    "De plus, nous introduirons trois nouvelles fonctions : nb_entre, nb_sortie et aff_actu.\n"
   ]
  },
  {
   "cell_type": "markdown",
   "metadata": {},
   "source": [
    "***Nous avons collecté les affluences de la bibliothèque des licences pour une semaine.\n",
    "Avec notre modèle, nous allons essayer de retrouver ces données.***"
   ]
  },
  {
   "cell_type": "code",
   "execution_count": 425,
   "metadata": {},
   "outputs": [],
   "source": [
    "#affluence selon l'heure et le jour. Toutes les listes ont le même nombre d'éléments.\n",
    "#On comble les trous s'il y en a.(samedi)\n",
    "\n",
    "semaine = {'lundi' : [0.17, 0.33, 0.42, 0.5, 0.58, 0.58, 0.67, 0.75, 0.83, 0.92, 0.75, 0.5, 0.25] , \n",
    " 'mardi' : [0.08, 0.17, 0.25, 0.33, 0.42, 0.42, 0.42, 0.5, 0.58, 0.58, 0.5, 0.33, 0.17] , \n",
    " 'mercredi' : [0.17, 0.33, 0.42, 0.5, 0.5, 0.5, 0.58, 0.58, 0.58, 0.5, 0.33, 0.25, 0.08] ,\n",
    " 'jeudi' : [0.08, 0.17, 0.25, 0.33, 0.5, 0.58, 0.5, 0.5, 0.67, 0.75, 0.67, 0.42, 0.17] , \n",
    " 'vendredi' : [0.08, 0.25, 0.5, 0.58, 0.67, 0.83, 0.83, 0.67, 0.67, 0.67, 0.67, 0.42, 0.17] , \n",
    " 'samedi' : [0,0.25, 0.75, 0.58, 0.75, 0.92, 0.83, 0.83, 1.0, 0.75, 0.25,0,0] }"
   ]
  },
  {
   "cell_type": "code",
   "execution_count": 426,
   "metadata": {},
   "outputs": [
    {
     "data": {
      "text/plain": [
       "0.25"
      ]
     },
     "execution_count": 426,
     "metadata": {},
     "output_type": "execute_result"
    }
   ],
   "source": [
    "def aff_actu(heure,jour):\n",
    "    ''' float * str -> float\n",
    "        retourne l'affluence actuelle à une heure donnée dans une bibliothèque\n",
    "        Si la bibliothèque est fermée retourne 0'''\n",
    "    if est_ouvert(heure,jour,horaire):\n",
    "        x=semaine[jour][int(heure-9)]\n",
    "        return x\n",
    "    return 0\n",
    "aff_actu(10,\"samedi\")"
   ]
  },
  {
   "cell_type": "code",
   "execution_count": 689,
   "metadata": {},
   "outputs": [],
   "source": [
    "#tirage aléatoire du nombre d'entrée\n",
    "\n",
    "# aff : le taux d'affluence actuelle\n",
    "# afflim : le taux d'affluence à partir duquel la personne hésite\n",
    "# p1 : la probabilité que la personne ne rentre pas dans la bibliothèque\n",
    "#emax : nombre de place restant\n",
    "#t: heure actuelle\n",
    "#nb: nombre de tirage\n",
    "# s: nombre de personnes qui entrent\n",
    "# phase : découpage de la journée en plusieurs phases\n",
    "\n",
    "def nb_entre(aff,afflim,p1,emax):\n",
    "    s=0\n",
    "    nb= 150\n",
    "    nb=np.random.randint(0,nb)\n",
    "    if nb>emax:\n",
    "        nb = emax\n",
    "    for i in range(nb):\n",
    "        s += alea_entree(aff,afflim,p1)\n",
    "    return s\n"
   ]
  },
  {
   "cell_type": "code",
   "execution_count": 687,
   "metadata": {},
   "outputs": [],
   "source": [
    "#idem que pour nb_entre\n",
    "\n",
    "def nb_sortie(aff,afflim,p2,bt):\n",
    "    s=0\n",
    "    nb= 1500\n",
    "    nb=np.random.randint(0,nb)\n",
    "    if nb>bt:\n",
    "        nb = bt \n",
    "        \n",
    "    for i in range(nb):\n",
    "        s += alea_sortie(aff,afflim,p2)\n",
    "    return s\n"
   ]
  },
  {
   "cell_type": "code",
   "execution_count": 679,
   "metadata": {},
   "outputs": [],
   "source": [
    "# Bibliothèquetemp permet  en fonction des horaires d'ouverture de la bibliothèque\n",
    "# et de l'heure de la journée de faire des entrée/sortie multiple.\n",
    "\n",
    "#bt0: nombre initial de personne dans la bibliothèque. \n",
    "# bt : nombre de personne dans la bibliothèque à l'instant t\n",
    "#btmax: nombre de places de la bibliothèque.\n",
    "# aff : le taux d'affluence actuelle\n",
    "# afflim : le taux d'affluence à partir duquel la personne hésite\n",
    "# p1 : la probabilité que la personne ne rentre pas dans la bibliothèque\n",
    "# p2 : la probabilité que la personne ne sort pas de la bibliothèque\n",
    "# On fera un cycle de 24h\n",
    "\n",
    "# Exemple : horaire pour la BDL\n",
    "horaire = [(9,22) , (9,22) , (9,22) , (9,22) , (9,22) , (10,20),(0,0)]\n",
    "\n",
    "def bibliothèquetemp(bt0,btmax,afflim,p1,p2,jour):\n",
    "                    #(int,int,float,float,float,int)\n",
    "    ''' hyp : bt0 <= bt'''\n",
    "    bt=bt0\n",
    "    aff=bt/btmax\n",
    "    L=[bt0]\n",
    "    for t in range(24):\n",
    "        if est_ouvert(t,jour,horaire):\n",
    "            emax = btmax-bt\n",
    "            a = nb_entre(aff,afflim,p1,emax)\n",
    "            b = nb_sortie(aff,afflim,p2,bt)\n",
    "            if bt < btmax:\n",
    "                bt += a\n",
    "            if bt>0:\n",
    "                bt-=b\n",
    "        else:\n",
    "            bt=0\n",
    "        L.append(bt)\n",
    "        aff=bt/btmax\n",
    "    return L\n",
    "        \n",
    "    \n"
   ]
  },
  {
   "cell_type": "markdown",
   "metadata": {},
   "source": [
    "affichons la courbe"
   ]
  },
  {
   "cell_type": "code",
   "execution_count": 700,
   "metadata": {},
   "outputs": [
    {
     "data": {
      "image/png": "[encoded data removed]",
      "text/plain": [
       "<Figure size 432x288 with 1 Axes>"
      ]
     },
     "metadata": {},
     "output_type": "display_data"
    }
   ],
   "source": [
    "def plotb1(L):\n",
    "    plt.figure()\n",
    "    plt.plot(L)\n",
    "    plt.ylabel(\"Nombre de personne dans la bibliothèque\")\n",
    "    plt.xlabel(\"nombre d'heures\")\n",
    "    plt.xticks([i for i in range(0,25,2)])\n",
    "    plt.show()\n",
    "    return \n",
    "plotb1(bibliothèquetemp(0,745,.8,.9,.95,\"mardi\"))\n",
    "                      #(bt0,btmax,afflim,p1,p2,jour)"
   ]
  },
  {
   "cell_type": "markdown",
   "metadata": {},
   "source": [
    "#t0,btmax,afflim,p1,p2,n\n",
    "\n",
    "nous voyons que plus la probabilité p1 de ne pas entrer est plus grande\n"
   ]
  },
  {
   "cell_type": "markdown",
   "metadata": {},
   "source": [
    "### IV. sortie et entrée aléatoire multiple:"
   ]
  },
  {
   "cell_type": "markdown",
   "metadata": {},
   "source": [
    "Nous allons améliorer notre modèle en découpant une journée en plusieurs phases  : \n",
    "\n",
    "'bigenter' : période d'importante entrée \n",
    "\n",
    "'bigexit' : période d'importante sortie \n",
    "\n",
    "'bigstay' : période avec flux (entrée et/ou sortie) très faible \n",
    "\n",
    "'unknown' : période de flux inconnu (ce sont les heures qui restent)\n",
    "\n",
    "NB : Les phases peuvent être cumulées (attention aux incompatibilités!)\n"
   ]
  },
  {
   "cell_type": "code",
   "execution_count": 546,
   "metadata": {},
   "outputs": [],
   "source": [
    "# On suppose que phase est valide\n",
    "# L'union de tous les intervalles doit correspondre aux ouvertures de la bibliothèque\n",
    "# Les intervalles sont disjoints, de la forme ']debut,fin]'\n",
    "\n",
    "phase = {'bigenter': [(10,11) , (17,19)] ,  # (arrivée) , (fin des cours)\n",
    "         'bigexit' : [(12,13) , (21,22)]  , # (déjeuner), (retour chez soi)\n",
    "         'bigstay':  [(9,10) , (11,12) , (14,17)] , # (arrivée) , (cours) , (cours)\n",
    "         'unknown':  [(13,14) , (19,21)]  } "
   ]
  },
  {
   "cell_type": "code",
   "execution_count": 547,
   "metadata": {},
   "outputs": [],
   "source": [
    "def decoupage(phase,heure):\n",
    "    ''' dict * float -> str\n",
    "        retourne la phase correspondante à l'heure\n",
    "        hyp : est_ouvert(heure...) == True '''\n",
    "    for cle in phase:\n",
    "        for couple in phase[cle]:\n",
    "            debut=couple[0] \n",
    "            fin=couple[1]\n",
    "            if debut <= heure < fin:\n",
    "                return cle\n",
    "    return 'error'"
   ]
  },
  {
   "cell_type": "code",
   "execution_count": 548,
   "metadata": {},
   "outputs": [
    {
     "name": "stdout",
     "output_type": "stream",
     "text": [
      "error 0\n",
      "error 1\n",
      "error 2\n",
      "error 3\n",
      "error 4\n",
      "error 5\n",
      "error 6\n",
      "error 7\n",
      "error 8\n",
      "bigstay 9\n",
      "bigenter 10\n",
      "bigstay 11\n",
      "bigexit 12\n",
      "unknown 13\n",
      "bigstay 14\n",
      "bigstay 15\n",
      "bigstay 16\n",
      "bigenter 17\n",
      "bigenter 18\n",
      "unknown 19\n",
      "unknown 20\n",
      "bigexit 21\n",
      "error 22\n",
      "error 23\n"
     ]
    }
   ],
   "source": [
    "#Voici un test pour vérifier la fonction découpage, elle ne doit pas retourner 'error' aux horaires d'ouverture\n",
    "for i in range(24):\n",
    "        print( decoupage(phase,i) ,i )\n",
    "#On retourne 'error' aux horaires de fermeture"
   ]
  },
  {
   "cell_type": "code",
   "execution_count": 544,
   "metadata": {},
   "outputs": [],
   "source": [
    "#emax : nombre de place restant\n",
    "# bt : nombre de personne dans la bibliothèque à l'instant t\n",
    "#nb: nombre d'entree/sortie\n",
    "def correction(nb,bt,emax):\n",
    "    '''retourne le nombre d'entrée réalisable.'''\n",
    "    if nb >= 0:\n",
    "        if nb > emax:\n",
    "            nb = emax\n",
    "    else:\n",
    "        if -nb > bt: #le signe '-' correspond à la valeur absolue\n",
    "            nb = -bt    \n",
    "    return nb"
   ]
  },
  {
   "cell_type": "code",
   "execution_count": 545,
   "metadata": {
    "scrolled": true
   },
   "outputs": [
    {
     "name": "stdout",
     "output_type": "stream",
     "text": [
      "10\n",
      "-400\n"
     ]
    }
   ],
   "source": [
    "#Nous allons tester correction(nb,bt,emax)\n",
    "\n",
    "print(correction(500,500,10))\n",
    "# Nous avons 500 personnes dans la bibliothèque et il reste 10 places libres.\n",
    "# Nous essayons de faire entrer 500 personnes, mais ce n'est pas possible\n",
    "\n",
    "print(correction(-551,400,10))\n",
    "#Nous pouvons faire sortir au maximumle nombre de personne qu'il y a dans la bibliothèque"
   ]
  },
  {
   "cell_type": "markdown",
   "metadata": {},
   "source": [
    "*** Si nb_flux est positif, il est compté en entrée, sinon en sortie ***"
   ]
  },
  {
   "cell_type": "markdown",
   "metadata": {},
   "source": [
    "***exemple:***\n",
    "\n",
    "'bigenter' : nbtir 100\n",
    "\n",
    "'bigexit' : -100\n",
    "\n",
    "'bigstay' : -10 à 10\n",
    "\n",
    "'unknown' : -100 à 100\n"
   ]
  },
  {
   "cell_type": "code",
   "execution_count": 435,
   "metadata": {},
   "outputs": [],
   "source": [
    "def signe(nombre):\n",
    "    ''' Nombre -> Nombre\n",
    "        retourne 1 si Nombre est positif, sinon -1'''\n",
    "    if nombre < 0:\n",
    "        return -1\n",
    "    return 1"
   ]
  },
  {
   "cell_type": "code",
   "execution_count": 552,
   "metadata": {},
   "outputs": [
    {
     "name": "stdout",
     "output_type": "stream",
     "text": [
      "1\n",
      "-1\n",
      "1\n"
     ]
    }
   ],
   "source": [
    "print( signe(5) )\n",
    "print( signe(-5) )\n",
    "print( signe(0) )"
   ]
  },
  {
   "cell_type": "code",
   "execution_count": 436,
   "metadata": {},
   "outputs": [],
   "source": [
    "def alea_signe():\n",
    "    ''' None -> int\n",
    "        retourne aléatoirement 0 ou 1'''\n",
    "    u = np.random.random() # u est un nombre aléatoire entre 0 et 1\n",
    "    if u < 0.5: \n",
    "        return -1\n",
    "    return 1"
   ]
  },
  {
   "cell_type": "code",
   "execution_count": 584,
   "metadata": {},
   "outputs": [
    {
     "name": "stdout",
     "output_type": "stream",
     "text": [
      "0.501\n",
      "0.499\n"
     ]
    }
   ],
   "source": [
    "c1,c2 = 0,0\n",
    "for loop in range(1000):\n",
    "    a=alea_signe()\n",
    "    if a==1:\n",
    "        c1+=1\n",
    "    else:\n",
    "        c2+=1\n",
    "print(c1/1000)\n",
    "print(c2/1000)"
   ]
  },
  {
   "cell_type": "code",
   "execution_count": 437,
   "metadata": {},
   "outputs": [],
   "source": [
    "def alea_flux(aff):\n",
    "    '''\n",
    "    float->int\n",
    "    en fonction du taux d'affluence et d'une probabilité ,retourne 1 si l'élève rentre, sinon 0.\n",
    "    '''\n",
    "    u = np.random.random() # u est un nombre aléatoire entre 0 et 1\n",
    "    if u < 0.5: \n",
    "        return 0\n",
    "    return 1"
   ]
  },
  {
   "cell_type": "code",
   "execution_count": null,
   "metadata": {},
   "outputs": [],
   "source": [
    "#Ce programme est identique à alea_signe()"
   ]
  },
  {
   "cell_type": "code",
   "execution_count": 654,
   "metadata": {},
   "outputs": [],
   "source": [
    "# s: nombre de personnes qui entrent ou qui sortent de al bibliothèque\n",
    "def nb_flux(aff,emax,Nom_phase,btmax):\n",
    "    '''float * int * str * int -> int\n",
    "       retourne le nombre de flux'''  \n",
    "    \n",
    "    # Attention ! : 'bigstay' et 'unknown' sont en valeurs absolues\n",
    "    #Flux est un dictionnaire de proportion en fonction des phases\n",
    "    Flux = {\"bigenter\": 1/2,'bigexit' : -1/6, 'bigstay' : 1/70, 'unknown' : 1/4}\n",
    "    \n",
    "    nbtir=round(Flux[Nom_phase]*btmax)\n",
    "    s=0\n",
    "    for i in range(abs(nbtir)):\n",
    "        s += alea_flux(aff)\n",
    "    s*= signe(nbtir)\n",
    "    \n",
    "    if Nom_phase == 'bigstay' or Nom_phase == 'unknown':\n",
    "        s*=alea_signe()\n",
    "    return s"
   ]
  },
  {
   "cell_type": "code",
   "execution_count": 607,
   "metadata": {},
   "outputs": [
    {
     "data": {
      "text/plain": [
       "-72"
      ]
     },
     "execution_count": 607,
     "metadata": {},
     "output_type": "execute_result"
    }
   ],
   "source": [
    "# Voici un test de la fonction nb_flux(...) :\n",
    "nb_flux(0.5,250,\"unknown\",1000)"
   ]
  },
  {
   "cell_type": "markdown",
   "metadata": {},
   "source": [
    "Dans bibliothèquetemp2, nous supprimerons les paramètres afflim, p1, p2 pour simplifier nos fonctions. \n",
    "En d'autres termes, nous ne tiendrons plus compte de l'hésitation des étudiants."
   ]
  },
  {
   "cell_type": "code",
   "execution_count": 614,
   "metadata": {},
   "outputs": [],
   "source": [
    "# Bibliothèquetemp2 permet  en fonction des horaires d'ouverture de la bibliothèque\n",
    "# et de l'heure de la journée de faire des entrée/sortie multiple.\n",
    "\n",
    "#bt0: nombre initial de personne dans la bibliothèque. \n",
    "# bt : nombre de personne dans la bibliothèque à l'instant t\n",
    "#btmax: nombre de places de la bibliothèque.\n",
    "# aff : le taux d'affluence actuelle\n",
    "# afflim : le taux d'affluence à partir duquel la personne hésite\n",
    "# emax : nombre place restant\n",
    "# nb : nombre d'entree/sortie\n",
    "# On fera un cycle de 24h\n",
    "\n",
    "# Exemple : horaire pour la BDL\n",
    "horaire = [(9,22) , (9,22) , (9,22) , (9,22) , (9,22) , (10,20),(0,0)]\n",
    "\n",
    "# On suppose que phase est valide.\n",
    "\n",
    "#découpage de la journée en plusieurs phases\n",
    "\n",
    "phase = {'bigenter': [(10,11) , (17,19)] ,  # (arrivée) , (fin des cours)\n",
    "         'bigexit' : [(12,13) , (21,22)]  , # (déjeuner), (retour chez soi)\n",
    "         'bigstay':  [(9,10) , (11,12) , (14,17)] , # (arrivée) , (cours) , (cours)\n",
    "         'unknown':  [(13,14) , (19,21)]  } \n",
    "\n",
    "def bibliothèquetemp2(bt0,btmax,jour):\n",
    "                    #(int,int,str)\n",
    "    ''' hyp : 0 <= bt <= btmax\n",
    "        retourne la liste des affluences pour toutes les heures de la journée'''\n",
    "    bt=bt0\n",
    "    aff=bt/btmax\n",
    "    L=[bt0]\n",
    "    for t in range(24):\n",
    "        if est_ouvert(t,jour,horaire):\n",
    "            Nom_phase = decoupage(phase,t)\n",
    "            emax = btmax-bt\n",
    "            nb=nb_flux(aff,emax,Nom_phase,btmax)\n",
    "            nb=correction(nb,bt,emax)\n",
    "            bt+=nb\n",
    "        else:\n",
    "            bt=0\n",
    "            \n",
    "        L.append(bt)\n",
    "        aff=bt/btmax\n",
    "    return L"
   ]
  },
  {
   "cell_type": "code",
   "execution_count": 615,
   "metadata": {},
   "outputs": [
    {
     "data": {
      "text/plain": [
       "[0,\n",
       " 0,\n",
       " 0,\n",
       " 0,\n",
       " 0,\n",
       " 0,\n",
       " 0,\n",
       " 0,\n",
       " 0,\n",
       " 0,\n",
       " 0,\n",
       " 43,\n",
       " 38,\n",
       " 0,\n",
       " 48,\n",
       " 53,\n",
       " 54,\n",
       " 47,\n",
       " 98,\n",
       " 154,\n",
       " 103,\n",
       " 153,\n",
       " 108,\n",
       " 0,\n",
       " 0]"
      ]
     },
     "execution_count": 615,
     "metadata": {},
     "output_type": "execute_result"
    }
   ],
   "source": [
    "bibliothèquetemp2(0,745,\"lundi\")"
   ]
  },
  {
   "cell_type": "code",
   "execution_count": 655,
   "metadata": {},
   "outputs": [
    {
     "data": {
      "image/png": "[encoded data removed]",
      "text/plain": [
       "<Figure size 432x288 with 1 Axes>"
      ]
     },
     "metadata": {},
     "output_type": "display_data"
    }
   ],
   "source": [
    "def plotb2(L):\n",
    "    plt.figure()\n",
    "    plt.plot(L)\n",
    "    plt.ylabel(\"Nombre de personne dans la bibliothèque\")\n",
    "    plt.xlabel(\"nombre d'heures\")\n",
    "    plt.xticks([i for i in range(0,25,1)])\n",
    "    plt.show()\n",
    "    return \n",
    "plotb1(bibliothèquetemp2(0,745,\"lundi\"))"
   ]
  },
  {
   "cell_type": "markdown",
   "metadata": {},
   "source": [
    "## Partie 2 : Remplissage avec une géographie de la bibliothèque et un fichier de l'étudiant"
   ]
  },
  {
   "cell_type": "markdown",
   "metadata": {},
   "source": [
    "###  I. Fonction génératrice de fichier Personne "
   ]
  },
  {
   "cell_type": "markdown",
   "metadata": {},
   "source": [
    "Dans notre fichier **Personne**, nous avons les données suivantes : \n",
    "\n",
    "    _âge \n",
    "    _etat social \n",
    "    _étude\n",
    "    _emploi du temps"
   ]
  },
  {
   "cell_type": "markdown",
   "metadata": {},
   "source": [
    "**age** : L'age sera compris entre 18 et 29 ans.\n",
    "\n",
    "**etat social** : L'état social est le nombre d' \"accompagnateurs\" d'une personne, compris entre 0 et 10\n",
    "\n",
    "**étude** : Nous tiendrons compte des études que l'on peut faire à Jussieu, c'est à dire :\n",
    "\n",
    "            _ le niveau d'étude : licence, master, doctorat ou autre.\n",
    "            _ le nom du diplôme préparé : mathématiques, physiques... (Nous serons plus précis sur ce point-là)\n",
    "            _ l'année en cours dans le diplôme : de 1 à 5\n",
    "            _ Voici un lien : http://sciences.sorbonne-universite.fr/fr/formations/diplomes.html\n",
    "\n",
    "**emploi du temps** : Il permet de définir les plages horaires quand l'étudiant sera susceptible d'aller à la bibliothèque. C'est plages excluent : heure de déjeûner, heure de cours, heure de loisirs..."
   ]
  },
  {
   "cell_type": "markdown",
   "metadata": {},
   "source": [
    "a) **Catégorie d'âge dans l'ensemble des étudiants**\n",
    "\n",
    "Nous définissons trois catégories d'âge : avec p, une proportion.\n",
    "\n",
    "    _18 à 21 ans : p1 = ...\n",
    "    _21 à 25 ans : p2 = ...\n",
    "    _26 à 29 ans : p3 = ...\n",
    "  "
   ]
  },
  {
   "cell_type": "markdown",
   "metadata": {},
   "source": [
    "b) **Catégorie pour les etats sociaux**\n",
    "\n",
    "Nous déterminons les proportions en fonction d'intervalles : \n",
    "\n",
    "Les valeurs sont le nombre de personne accompagnatrices.\n",
    "\n",
    "    _0 : p1 = ...\n",
    "    _1 : p2 = ...\n",
    "    _2 à 5 : p3 = ...\n",
    "    _6 à 8 : p4 = ...\n",
    "    _9 à 10 : p5= ..."
   ]
  },
  {
   "cell_type": "markdown",
   "metadata": {},
   "source": [
    "c) **Différentes études**\n",
    "    \n",
    "    Le niveau d'étude et l'année en cours du diplôme ont été déterminés précédemment\n",
    "    \n",
    "    c.1) nom du diplôme préparé : \n",
    "    \n",
    "                ** licence ** : cycle d'intégration, chimie, électronique, informatique, mathématiques, mécanique,    physique, technologie, terre_vie.\n",
    "        ** master** : bio, chimie, informatique, mathématiques, physique, ingénieur, enseignement, terre_vie.\n",
    "        ** doctorat** : modélisation et ingénierie, énergie_matiere_univers, terre_vivante_environnement, vie_sante\n",
    "   "
   ]
  },
  {
   "cell_type": "markdown",
   "metadata": {},
   "source": [
    "d) **Emploi du temps**\n",
    "\n",
    "    Cette partie nécessite la création de fonctions génératrices \"d'emploi du temps\" avec une période de loisirs et une période     \"bibliothèque\".\n",
    "    \n",
    "    d.1) Loisirs : \n",
    "    \n",
    "        Remarque : Les loisirs sont les périodes durant lesquelles, l'étudiant ne peut pas aller à la bibliothèque.\n",
    "        pause_déjêuner, DVE, DAPS, sur_campus, extra_scolaires, salle_info...\n",
    "    "
   ]
  },
  {
   "cell_type": "markdown",
   "metadata": {},
   "source": [
    "Maintenant nous allons construire tout les éléments dont nous avons besoin pour cette partie."
   ]
  },
  {
   "cell_type": "code",
   "execution_count": 28,
   "metadata": {},
   "outputs": [],
   "source": [
    "%matplotlib inline     \n",
    "# ^Sans animations\n",
    "# %matplotlib notebook \n",
    "# ^Avec animations\n",
    "import numpy as np\n",
    "import matplotlib.pyplot as plt\n",
    "from matplotlib import animation\n",
    "from pylab import*\n",
    "from random import randint"
   ]
  },
  {
   "cell_type": "markdown",
   "metadata": {},
   "source": [
    "**Nous crééons une fonction génératrice d'âges, en tenant compte de probabilité**"
   ]
  },
  {
   "cell_type": "code",
   "execution_count": 54,
   "metadata": {},
   "outputs": [
    {
     "name": "stdout",
     "output_type": "stream",
     "text": [
      "p :  1.0\n",
      "Le dictionnaire est True\n"
     ]
    }
   ],
   "source": [
    "#Voici notre dictionnaire de probabilité p_age\n",
    "\n",
    "# valeur = probabilité et clé = age compris entre deux bornes ([debut,fin])\n",
    "p_age = {(18,21) : 0.5 , (22,25) : 0.3 , (26,29) : 0.2}\n",
    "\n",
    "# On teste si la somme des probabilités vaut 1\n",
    "\n",
    "def verif_dic(dictionnaire):\n",
    "    s=0.0\n",
    "    for valeur in dictionnaire.values():\n",
    "        s+=valeur\n",
    "    print(\"p : \",s)\n",
    "    print(\"Le dictionnaire est\",s==1)\n",
    "\n",
    "verif_dic(p_age)"
   ]
  },
  {
   "cell_type": "code",
   "execution_count": 42,
   "metadata": {},
   "outputs": [
    {
     "data": {
      "text/plain": [
       "28"
      ]
     },
     "execution_count": 42,
     "metadata": {},
     "output_type": "execute_result"
    }
   ],
   "source": [
    "def Age():\n",
    "    ''' retourne un entier compris entre 18 et 29 ans en tenant compte de probabilité'''\n",
    "            \n",
    "    u = np.random.random()\n",
    "    s = 0\n",
    "    for k in p_age.keys():\n",
    "        s += p_age[k]\n",
    "        if u < s:\n",
    "            debut = k[0]\n",
    "            fin = k[1]\n",
    "            return randint(debut,fin)\n",
    "Age()"
   ]
  },
  {
   "cell_type": "markdown",
   "metadata": {},
   "source": [
    "Nous vérifions que la fonction age() retourne bien aléatoirement des âges du dictionnaire p_age en tenant compte de probabilités."
   ]
  },
  {
   "cell_type": "code",
   "execution_count": 31,
   "metadata": {},
   "outputs": [
    {
     "data": {
      "text/plain": [
       "{(18, 21): 4974, (22, 25): 3000, (26, 29): 2026}"
      ]
     },
     "execution_count": 31,
     "metadata": {},
     "output_type": "execute_result"
    }
   ],
   "source": [
    "def verif_age1():\n",
    "    stat_age = { (18,21) :0 , (22,25):0 , (26,29): 0}\n",
    "    age = 0\n",
    "    for loop in range(10000):\n",
    "        age = Age()\n",
    "        for cle in stat_age:\n",
    "            debut = cle[0]\n",
    "            fin = cle[1]\n",
    "            if debut <=age <= fin:\n",
    "                stat_age[cle] += 1\n",
    "    return stat_age\n",
    "verif_age1()\n",
    "# Les valeurs du dictionnaire retourné correspondes aux probabilités associées aux intervalles"
   ]
  },
  {
   "cell_type": "code",
   "execution_count": 34,
   "metadata": {},
   "outputs": [
    {
     "data": {
      "text/plain": [
       "[0,\n",
       " 0,\n",
       " 0,\n",
       " 0,\n",
       " 0,\n",
       " 0,\n",
       " 0,\n",
       " 0,\n",
       " 0,\n",
       " 0,\n",
       " 0,\n",
       " 0,\n",
       " 0,\n",
       " 0,\n",
       " 0,\n",
       " 0,\n",
       " 0,\n",
       " 0,\n",
       " 1215,\n",
       " 1345,\n",
       " 1246,\n",
       " 1263,\n",
       " 766,\n",
       " 746,\n",
       " 740,\n",
       " 711,\n",
       " 526,\n",
       " 478,\n",
       " 484,\n",
       " 480]"
      ]
     },
     "execution_count": 34,
     "metadata": {},
     "output_type": "execute_result"
    }
   ],
   "source": [
    "def verif_age2():\n",
    "    stat_age =  { (18,21) :0 , (22,25):0 , (26,29): 0}\n",
    "    # on créer une liste pour stocker le nombre doccurences de chaque âge\n",
    "    L =[0]*12\n",
    "    age = 0\n",
    "    for loop in range(10000):\n",
    "        age = Age()\n",
    "        L[age-18] += 1\n",
    "    return[ 0]*18 + L\n",
    "verif_age2() \n",
    "# On remarque que la probabilité d'avoir un âge donné est égale à la probabilité de la tranche d'âge, divisée par 4."
   ]
  },
  {
   "cell_type": "code",
   "execution_count": 35,
   "metadata": {},
   "outputs": [
    {
     "data": {
      "image/png": "[encoded data removed]",
      "text/plain": [
       "<Figure size 432x288 with 1 Axes>"
      ]
     },
     "metadata": {},
     "output_type": "display_data"
    }
   ],
   "source": [
    "def plot_age(L):\n",
    "    plt.figure()\n",
    "    plt.gca().set_xlim(18, 30)\n",
    "    plt.ylabel(\"occurence pour chaque année d'age\")\n",
    "    plt.xlabel(\"age\")\n",
    "    plt.plot(L)\n",
    "    plt.show()\n",
    "    return\n",
    "plot_age(verif_age2())"
   ]
  },
  {
   "cell_type": "markdown",
   "metadata": {},
   "source": [
    "** Nous allons créer pas à pas une fonction génératrice d'emploi du temps, dont le résultat dépend des études des personnes et qui retourne un booléen**"
   ]
  },
  {
   "cell_type": "markdown",
   "metadata": {},
   "source": [
    "Nous utiliserons les probabilités conditionnelles, d'où la formule :"
   ]
  },
  {
   "cell_type": "markdown",
   "metadata": {},
   "source": [
    "p\n",
    "B\n",
    "(\n",
    "A\n",
    ") =\n",
    "p\n",
    "(\n",
    "A\n",
    "∩\n",
    "B\n",
    ")\n",
    "/\n",
    "p\n",
    "(\n",
    "B\n",
    ")\n",
    ".\n",
    "\n",
    "Soit :\n",
    "\n",
    "_A : préparer ou  avoir un diplôme donné"
   ]
  },
  {
   "cell_type": "code",
   "execution_count": 91,
   "metadata": {},
   "outputs": [
    {
     "name": "stdout",
     "output_type": "stream",
     "text": [
      "p :  1.0\n",
      "Le dictionnaire est True\n"
     ]
    },
    {
     "data": {
      "text/plain": [
       "'doctorat'"
      ]
     },
     "execution_count": 91,
     "metadata": {},
     "output_type": "execute_result"
    }
   ],
   "source": [
    "dic_diplome = {'licence' :0.17,'master': 0.27, 'doctorat' : 0.56}\n",
    "verif_dic(dic_diplome)\n",
    "def diplome():\n",
    "    '''int -> str\n",
    "    retourne un  nom de diplôme en tenant compte du dictionnaire dic_diplôme'''\n",
    "    u = np.random.random()\n",
    "    s = 0\n",
    "    for k in dic_diplome.keys():\n",
    "        s += dic_diplome[k]\n",
    "        if u < s:\n",
    "            return k\n",
    "diplome()"
   ]
  },
  {
   "cell_type": "markdown",
   "metadata": {
    "collapsed": true
   },
   "source": [
    "c.1) nom du diplôme préparé : \n",
    "    \n",
    "         ** licence ** : cycle d'intégration, chimie, électronique, informatique, mathématiques, mécanique,    physique, technologie, terre_vie.\n",
    "        ** master** : bio, chimie, informatique, mathématiques, physique, ingénieur, enseignement, terre_vie.\n",
    "        ** doctorat** : modélisation et ingénierie, énergie_matiere_univers, terre_vivante_environnement, vie_sante\n",
    "   "
   ]
  },
  {
   "cell_type": "code",
   "execution_count": null,
   "metadata": {
    "collapsed": true
   },
   "outputs": [],
   "source": [
    "#Crééons trois listes contenant les différentes matières enseignées selon le diplôme préparé.\n",
    "\n",
    "licence = ['integration', 'chimie' , 'electronique' , 'informatique', 'mathematiques', 'mecanique', 'physique', \n",
    "           'technologie', 'terre']\n",
    "master = ['bio', 'chimie' , 'informatique','mathematiques', 'physique','ingenieur','enseignement', 'terre']\n",
    "doctorat = ['modelisation', 'energie','terre','sante']"
   ]
  },
  {
   "cell_type": "markdown",
   "metadata": {},
   "source": [
    "Notre nouvelle fonction retournera les intervalles de temps durant lequel l'étudiant est susceptible de venir\n",
    "à la bibliothèque."
   ]
  },
  {
   "cell_type": "markdown",
   "metadata": {},
   "source": [
    " Voici les différents 'loisirs' :   \n",
    " pause_déjêuner, DVE, DAPS, sur_campus, extra_scolaires, salle_info..."
   ]
  },
  {
   "cell_type": "code",
   "execution_count": 95,
   "metadata": {},
   "outputs": [
    {
     "ename": "NameError",
     "evalue": "name 'p' is not defined",
     "output_type": "error",
     "traceback": [
      "\u001b[0;31m---------------------------------------------------------------------------\u001b[0m",
      "\u001b[0;31mNameError\u001b[0m                                 Traceback (most recent call last)",
      "\u001b[0;32m<ipython-input-95-7e4872094d7c>\u001b[0m in \u001b[0;36m<module>\u001b[0;34m()\u001b[0m\n\u001b[1;32m      2\u001b[0m \u001b[0;31m# régulièrement ce loisir et un intervalle de temps où le loisir ne sera pas réalisable.\u001b[0m\u001b[0;34m\u001b[0m\u001b[0;34m\u001b[0m\u001b[0m\n\u001b[1;32m      3\u001b[0m \u001b[0;34m\u001b[0m\u001b[0m\n\u001b[0;32m----> 4\u001b[0;31m loisir = { 'dejeuner':(p,()), 'DVE' :(p,()), \n\u001b[0m\u001b[1;32m      5\u001b[0m           'DAPS': (p,()) ,'campus' : (p,()) , 'extra': (p,()) , 'salle':(p,()) }\n",
      "\u001b[0;31mNameError\u001b[0m: name 'p' is not defined"
     ]
    }
   ],
   "source": [
    "# Nous crééons un dictionnaire qui associera à chaque loisir, une proportion des étudiants qui pratiquent \n",
    "# régulièrement ce loisir et un intervalle de temps où le loisir sera réalisé.\n",
    "\n",
    "loisir = { 'dejeuner':(0.99,(11,14)), 'VE' :(0.2,()), \n",
    "          'DAPS': (0.1,()) ,'campus' : (,()) , 'extra': (p,()) , 'salle':(p,()) }"
   ]
  },
  {
   "cell_type": "markdown",
   "metadata": {},
   "source": [
    "**Nous définissons la classe \"Personne\" avec les attributs qui la caractérisent**"
   ]
  },
  {
   "cell_type": "code",
   "execution_count": 64,
   "metadata": {},
   "outputs": [],
   "source": [
    "class Personne:\n",
    "\n",
    "    \"\"\"Classe définissant une personne caractérisée par :\n",
    "\n",
    "    - âge\n",
    "\n",
    "    - etat social\n",
    "\n",
    "    - étude\n",
    "\n",
    "    - emploi du temps  \"\"\"\n",
    "    \n",
    "    def __init__(self, age, etat_social, etude, emploi_temps):\n",
    "\n",
    "        \"\"\"Constructeur de notre classe\"\"\"\n",
    "\n",
    "        self.age = age\n",
    "\n",
    "        self.etat_social = etat_social\n",
    "\n",
    "        self.etude = etude\n",
    "\n",
    "        self.emploi_temps = emploi_temps\n"
   ]
  },
  {
   "cell_type": "markdown",
   "metadata": {},
   "source": [
    "Nous définissons une classe **compteur_Personne** qui nous permettra de compter le nombre d'objets de classe Personne"
   ]
  },
  {
   "cell_type": "code",
   "execution_count": 59,
   "metadata": {},
   "outputs": [],
   "source": [
    "class Compteur_Personne:\n",
    "\n",
    "    \"\"\"Cette classe possède un attribut de classe qui s'incrémente à chaque\n",
    "\n",
    "    fois que l'on crée un objet de ce type\"\"\"\n",
    "\n",
    "\n",
    "    objets_crees = 0 # Le compteur vaut 0 au départ\n",
    "\n",
    "    def __init__(self):\n",
    "\n",
    "        \"\"\"À chaque fois qu'on crée un objet, on incrémente le compteur\"\"\"\n",
    "\n",
    "        Compteur_Personne.objets_crees += 1"
   ]
  },
  {
   "cell_type": "code",
   "execution_count": null,
   "metadata": {},
   "outputs": [],
   "source": []
  },
  {
   "cell_type": "markdown",
   "metadata": {},
   "source": [
    "## II.Modelisation geographique"
   ]
  },
  {
   "cell_type": "markdown",
   "metadata": {},
   "source": [
    "La bibliothèque se compose de salles de travail et de place commune, nous allons nous interresser aux place commune car les salles de travails fonctionnent par reservation, Nous avons donc btmax=400 places"
   ]
  },
  {
   "cell_type": "markdown",
   "metadata": {},
   "source": [
    "***Remplissage d'une matrice de caractères en fonction de l'etude et l'etat_social.***\n",
    "\n",
    "La matrice les caractères utilisées sont : 1 0 #\n",
    "\n",
    "\"1\": place occupée\n",
    "\n",
    "\"0\": place libre\n",
    "\n",
    "\"#\": espace non utilisable\n",
    "\n",
    "\"/\": fin de zone"
   ]
  },
  {
   "cell_type": "code",
   "execution_count": 65,
   "metadata": {},
   "outputs": [
    {
     "name": "stdout",
     "output_type": "stream",
     "text": [
      "10\n",
      "13\n"
     ]
    }
   ],
   "source": [
    "M =np.zeros((10,13),dtype = str)\n",
    "\n",
    "print(len(M[:,0]))\n",
    "print(len(M[0,:]))\n",
    "#M[:,6] acces colone\n",
    "#M[6,:] acces ligne"
   ]
  },
  {
   "cell_type": "markdown",
   "metadata": {},
   "source": [
    "### A.Nous créons le coté math de la BULicences"
   ]
  },
  {
   "cell_type": "code",
   "execution_count": 461,
   "metadata": {},
   "outputs": [
    {
     "name": "stdout",
     "output_type": "stream",
     "text": [
      "[['/' '/' '/' '/' '/' '/' '/' '/' '/' '/' '/' '/' '/' '/' '/' '/' '/']\n",
      " ['/' '0' '0' '0' '0' '0' '#' '#' '#' '#' '#' '#' '#' '#' '#' '#' '/']\n",
      " ['/' '0' '0' '0' '0' '0' '#' '#' '#' '#' '#' '#' '#' '#' '#' '#' '/']\n",
      " ['/' '0' '0' '0' '0' '0' '#' '#' '#' '#' '#' '#' '#' '#' '#' '#' '/']\n",
      " ['/' '0' '0' '0' '0' '0' '#' '#' '#' '#' '#' '#' '#' '#' '#' '#' '/']\n",
      " ['/' '0' '0' '0' '0' '0' '#' '#' '#' '#' '#' '#' '#' '#' '#' '#' '/']\n",
      " ['/' '0' '0' '0' '0' '0' '#' '#' '#' '#' '#' '0' '0' '0' '0' '0' '/']\n",
      " ['/' '0' '0' '0' '0' '0' '#' '#' '#' '#' '#' '0' '0' '0' '0' '0' '/']\n",
      " ['/' '0' '0' '0' '0' '0' '#' '#' '#' '#' '#' '0' '0' '0' '0' '0' '/']\n",
      " ['/' '0' '0' '0' '0' '0' '#' '#' '#' '#' '#' '0' '0' '0' '0' '0' '/']\n",
      " ['/' '0' '0' '0' '0' '0' '#' '#' '#' '#' '#' '0' '0' '0' '0' '0' '/']\n",
      " ['/' '0' '0' '0' '0' '0' '#' '#' '#' '#' '#' '0' '0' '0' '0' '0' '/']\n",
      " ['/' '0' '0' '0' '0' '0' '#' '0' '0' '0' '#' '0' '0' '0' '0' '0' '/']\n",
      " ['/' '0' '0' '0' '0' '0' '#' '0' '0' '0' '#' '0' '0' '0' '0' '0' '/']\n",
      " ['/' '0' '0' '0' '0' '0' '#' '0' '0' '0' '#' '0' '0' '0' '0' '0' '/']\n",
      " ['/' '0' '0' '0' '0' '0' '#' '0' '0' '0' '#' '0' '0' '0' '0' '0' '/']\n",
      " ['/' '0' '0' '0' '0' '0' '#' '0' '0' '0' '#' '0' '0' '0' '0' '0' '/']\n",
      " ['/' '0' '0' '0' '0' '0' '#' '0' '0' '0' '#' '0' '0' '0' '0' '0' '/']\n",
      " ['/' '0' '0' '0' '0' '0' '#' '0' '0' '0' '#' '0' '0' '0' '0' '0' '/']\n",
      " ['/' '0' '0' '0' '0' '0' '#' '0' '0' '0' '#' '0' '0' '0' '0' '0' '/']\n",
      " ['/' '0' '0' '0' '0' '0' '#' '0' '0' '0' '#' '0' '0' '0' '0' '0' '/']\n",
      " ['/' '0' '0' '0' '0' '0' '#' '0' '0' '0' '#' '0' '0' '0' '0' '0' '/']\n",
      " ['/' '0' '0' '0' '0' '0' '#' '0' '0' '0' '#' '0' '0' '0' '0' '0' '/']\n",
      " ['/' '0' '0' '0' '0' '0' '#' '0' '0' '0' '#' '0' '0' '0' '0' '0' '/']\n",
      " ['/' '/' '/' '/' '/' '/' '/' '/' '/' '/' '/' '/' '/' '/' '/' '/' '/']]\n"
     ]
    }
   ],
   "source": [
    "def initM():\n",
    "    nblig=17\n",
    "    nbcol=25\n",
    "    M =np.zeros((nbcol,nblig), dtype = str)\n",
    "    M[:,:]='0'\n",
    "\n",
    "    for n in range(0,ligne,3):  \n",
    "        M[n,(range(1,17))]=\"#\"\n",
    "    for n in range(1,12):\n",
    "        M[n,range(7,10)]=\"#\"      \n",
    "    for n in range(1,6):\n",
    "        M[n,range(11,17)]=\"#\" \n",
    "    M[:,6]='#'\n",
    "    M[:,10]='#'\n",
    "\n",
    "    M[:,0]='/'\n",
    "    M[0,:]='/'\n",
    "    M[-1,:]='/'\n",
    "    M[:,-1]='/'\n",
    "    return M\n",
    "print(initM())\n"
   ]
  },
  {
   "cell_type": "code",
   "execution_count": 469,
   "metadata": {},
   "outputs": [
    {
     "name": "stdout",
     "output_type": "stream",
     "text": [
      "1\n"
     ]
    }
   ],
   "source": [
    "def alea_entre2():\n",
    "    u = np.random.random() # u est un nombre aléatoire entre 0 et 1\n",
    "    if u < 0.5:\n",
    "        return '1'  \n",
    "    else:\n",
    "        return '0'\n",
    "print(alea_entre2())"
   ]
  },
  {
   "cell_type": "code",
   "execution_count": 454,
   "metadata": {},
   "outputs": [
    {
     "name": "stdout",
     "output_type": "stream",
     "text": [
      "[['/' '/' '/' '/' '/' '/' '/' '/' '/' '/' '/' '/' '/' '/' '/' '/' '/']\n",
      " ['/' '1' '1' '0' '1' '0' '#' '#' '#' '#' '#' '#' '#' '#' '#' '#' '/']\n",
      " ['/' '0' '1' '0' '0' '0' '#' '#' '#' '#' '#' '#' '#' '#' '#' '#' '/']\n",
      " ['/' '1' '1' '0' '0' '1' '#' '#' '#' '#' '#' '#' '#' '#' '#' '#' '/']\n",
      " ['/' '0' '1' '1' '1' '1' '#' '#' '#' '#' '#' '#' '#' '#' '#' '#' '/']\n",
      " ['/' '0' '1' '1' '1' '0' '#' '#' '#' '#' '#' '#' '#' '#' '#' '#' '/']\n",
      " ['/' '0' '0' '1' '1' '1' '#' '#' '#' '#' '#' '1' '1' '1' '0' '1' '/']\n",
      " ['/' '0' '0' '1' '0' '0' '#' '#' '#' '#' '#' '1' '1' '0' '0' '1' '/']\n",
      " ['/' '1' '0' '0' '1' '0' '#' '#' '#' '#' '#' '1' '1' '0' '0' '1' '/']\n",
      " ['/' '1' '0' '1' '1' '0' '#' '#' '#' '#' '#' '0' '0' '1' '0' '1' '/']\n",
      " ['/' '0' '1' '0' '0' '1' '#' '#' '#' '#' '#' '0' '1' '0' '0' '0' '/']\n",
      " ['/' '1' '1' '1' '1' '1' '#' '#' '#' '#' '#' '1' '1' '1' '1' '0' '/']\n",
      " ['/' '0' '0' '0' '0' '1' '#' '0' '0' '0' '#' '0' '0' '1' '0' '0' '/']\n",
      " ['/' '0' '0' '1' '1' '0' '#' '0' '1' '0' '#' '1' '1' '0' '1' '1' '/']\n",
      " ['/' '0' '1' '1' '1' '1' '#' '1' '1' '0' '#' '1' '1' '0' '1' '1' '/']\n",
      " ['/' '1' '1' '1' '1' '0' '#' '0' '1' '1' '#' '1' '1' '1' '1' '1' '/']\n",
      " ['/' '1' '0' '1' '1' '1' '#' '1' '1' '1' '#' '0' '0' '0' '0' '0' '/']\n",
      " ['/' '0' '1' '1' '0' '1' '#' '0' '0' '1' '#' '0' '0' '1' '0' '1' '/']\n",
      " ['/' '0' '1' '1' '1' '0' '#' '0' '0' '0' '#' '1' '1' '0' '0' '0' '/']\n",
      " ['/' '0' '0' '1' '1' '1' '#' '0' '0' '1' '#' '0' '0' '0' '1' '1' '/']\n",
      " ['/' '0' '0' '0' '1' '1' '#' '1' '0' '1' '#' '1' '0' '0' '0' '1' '/']\n",
      " ['/' '0' '1' '1' '1' '1' '#' '0' '1' '1' '#' '1' '0' '0' '0' '1' '/']\n",
      " ['/' '0' '0' '0' '0' '0' '#' '1' '1' '0' '#' '1' '1' '1' '0' '0' '/']\n",
      " ['/' '0' '1' '1' '0' '1' '#' '0' '1' '0' '#' '0' '1' '1' '0' '1' '/']\n",
      " ['/' '/' '/' '/' '/' '/' '/' '/' '/' '/' '/' '/' '/' '/' '/' '/' '/']]\n"
     ]
    }
   ],
   "source": [
    "def RemplissageMath():#après mettre les 4 paramêtres (matiere:etude,etat_social)\n",
    "    \"\"\"tuple[str,int]*int-> matrix[str]\n",
    "    retourne une matrice contenant les élèves s\"\"\"\n",
    "    ligne = 0\n",
    "    colone = 0\n",
    "    bt=0\n",
    "    M=initM()\n",
    "    for ligne in range(len(M[:,ligne])):\n",
    "        for colone in range(len(M[colone,:])):\n",
    "            if M[ligne,colone]=='0':\n",
    "                M[ligne,colone]=alea_entre2()\n",
    "                \n",
    "    return M\n",
    "print(RemplissageMath())"
   ]
  },
  {
   "cell_type": "markdown",
   "metadata": {},
   "source": [
    "### B.remplissage avec le temp"
   ]
  },
  {
   "cell_type": "code",
   "execution_count": 470,
   "metadata": {},
   "outputs": [
    {
     "name": "stdout",
     "output_type": "stream",
     "text": [
      "Object `bibliothequetemp2` not found.\n"
     ]
    }
   ],
   "source": [
    "comment mettre en application bibliothequetemp2?"
   ]
  },
  {
   "cell_type": "code",
   "execution_count": null,
   "metadata": {},
   "outputs": [],
   "source": [
    "comment mettre en application bibliothequetemp2"
   ]
  }
 ],
 "metadata": {
  "kernelspec": {
   "display_name": "Python 3",
   "language": "python",
   "name": "python3"
  },
  "language_info": {
   "codemirror_mode": {
    "name": "ipython",
    "version": 3
   },
   "file_extension": ".py",
   "mimetype": "text/x-python",
   "name": "python",
   "nbconvert_exporter": "python",
   "pygments_lexer": "ipython3",
   "version": "3.5.3"
  }
 },
 "nbformat": 4,
 "nbformat_minor": 2
}

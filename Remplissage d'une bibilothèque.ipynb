{
 "cells": [
  {
   "cell_type": "code",
   "execution_count": 65,
   "metadata": {},
   "outputs": [],
   "source": [
    "%matplotlib inline     \n",
    "# ^Sans animations\n",
    "# %matplotlib notebook \n",
    "# ^Avec animations\n",
    "import numpy as np\n",
    "import matplotlib.pyplot as plt\n",
    "from matplotlib import animation"
   ]
  },
  {
   "cell_type": "markdown",
   "metadata": {},
   "source": [
    "## Partie I : Etude de remplissage d'une bibliothèque"
   ]
  },
  {
   "cell_type": "markdown",
   "metadata": {},
   "source": [
    "### I. Evolution du remplissage de la bibliothèque en tenant compte de probabilité\n",
    " "
   ]
  },
  {
   "cell_type": "markdown",
   "metadata": {},
   "source": [
    "Nous allons modeliser l'évolution de l'affluence dans la bibliothèque des Licences au cours du temps."
   ]
  },
  {
   "cell_type": "markdown",
   "metadata": {},
   "source": [
    "Nous disposons des horaires et du nombre de place de la bibliothèque "
   ]
  },
  {
   "cell_type": "code",
   "execution_count": 66,
   "metadata": {},
   "outputs": [],
   "source": [
    "# aff : le taux d'affluence actuelle\n",
    "# afflim : le taux d'affluence à partir duquel la personne hésite\n",
    "# p1 : la probabilité que la personne ne rentre pas dans la bibliothèque\n",
    "\n",
    "def alea_entree(aff,afflim,p1):\n",
    "    '''\n",
    "    float->int\n",
    "    en fonction du taux d'affluence et d'une probabilité ,retourne 1 si l'élève rentre, sinon 0.\n",
    "    '''\n",
    "    if aff>=afflim :\n",
    "        u = np.random.random() # u est un nombre aléatoire entre 0 et 1\n",
    "        if u < p1: \n",
    "            return 0\n",
    "    return 1"
   ]
  },
  {
   "cell_type": "code",
   "execution_count": 67,
   "metadata": {},
   "outputs": [],
   "source": [
    "# aff : le taux d'affluence actuelle\n",
    "# afflim : le taux d'affluence à partir duquel la personne hésite\n",
    "# p2 : la probabilité que la personne ne sort pas de la bibliothèque\n",
    "\n",
    "p2 =.95\n",
    "def alea_sortie(aff,afflim,p2):\n",
    "    '''\n",
    "    float->int\n",
    "    en fonction du taux d'affluence et d'une probabilité p2,retourne 1 si l'élève sort, sinon 0 0.\n",
    "    '''\n",
    "    if aff>=afflim :\n",
    "        u = np.random.random()  # u est un nombre aléatoire entre 0 et 1\n",
    "        if u < p2: \n",
    "            return 0\n",
    "        else:\n",
    "            return 1\n",
    "    return 0"
   ]
  },
  {
   "cell_type": "code",
   "execution_count": 68,
   "metadata": {},
   "outputs": [],
   "source": [
    "#bt0: nombre initial de personne dans la bibliothèque. \n",
    "#btmax: nombre de places de la bibliothèque.\n",
    "# aff : le taux d'affluence actuelle\n",
    "# afflim : le taux d'affluence à partir duquel la personne hésite\n",
    "# p1 : la probabilité que la personne ne rentre pas dans la bibliothèque\n",
    "# p2 : la probabilité que la personne ne sort pas de la bibliothèque\n",
    "#n : nombre de cycle entrée/sortie\n",
    "\n",
    "def bibliothèque(bt0,btmax,afflim,p1,p2,n):\n",
    "    ''' hyp : bt0 <= btmax\n",
    "        Evolution du nombre de place occupé dans la bibliothèque.'''\n",
    "    \n",
    "    bt=bt0\n",
    "    aff=bt/btmax\n",
    "    L=[bt0] #Evolution de l'occupation\n",
    "    for i in range(n):\n",
    "        a = alea_entree(aff,afflim,p1)\n",
    "        b = alea_sortie(aff,afflim,p2)\n",
    "        if bt < btmax:\n",
    "            bt += a\n",
    "        if bt>0:\n",
    "            bt-=b\n",
    "        L.append(bt)\n",
    "        aff=bt/btmax\n",
    "    return L\n",
    "        \n",
    "        \n",
    "        \n",
    "        "
   ]
  },
  {
   "cell_type": "markdown",
   "metadata": {},
   "source": [
    "affichons la courbe de l'évolution de l'occupation de la bibliothèque sur un nombre de tour"
   ]
  },
  {
   "cell_type": "code",
   "execution_count": 70,
   "metadata": {},
   "outputs": [
    {
     "data": {
      "image/png": "[encoded data removed]",
      "text/plain": [
       "<Figure size 432x288 with 1 Axes>"
      ]
     },
     "metadata": {
      "needs_background": "light"
     },
     "output_type": "display_data"
    }
   ],
   "source": [
    "def plotb0(L):\n",
    "    plt.figure()\n",
    "    plt.plot(L)\n",
    "    plt.ylabel(\"Nombre de personne dans la bibliothèque\")\n",
    "    plt.xlabel(\"nombre de tour\")\n",
    "    plt.show()\n",
    "    return\n",
    "plotb0(bibliothèque(700,745,.8,.9,.95,200))"
   ]
  },
  {
   "cell_type": "markdown",
   "metadata": {},
   "source": [
    "Nous allons coder ci-dessous les fonctions de conversion dont nous aurons besoin."
   ]
  },
  {
   "cell_type": "markdown",
   "metadata": {},
   "source": [
    "### II. changement de format pour les jours de la semaine\n",
    "\n",
    "\"jour\" -> int"
   ]
  },
  {
   "cell_type": "code",
   "execution_count": 71,
   "metadata": {},
   "outputs": [],
   "source": [
    "def conversion1_jour(jour):\n",
    "    ''' str * dict -> int\n",
    "        Conversion : str -> int pour les jours de la semaine '''\n",
    "    Jour1 = {'lundi':0,'mardi':1,'mercredi':2,'jeudi':3,'vendredi':4,'samedi':5,'dimanche':6}\n",
    "    return (Jour1[jour])"
   ]
  },
  {
   "cell_type": "code",
   "execution_count": 72,
   "metadata": {},
   "outputs": [
    {
     "data": {
      "text/plain": [
       "1"
      ]
     },
     "execution_count": 72,
     "metadata": {},
     "output_type": "execute_result"
    }
   ],
   "source": [
    "conversion1_jour(\"mardi\")"
   ]
  },
  {
   "cell_type": "markdown",
   "metadata": {},
   "source": [
    "int -> \"jour\""
   ]
  },
  {
   "cell_type": "code",
   "execution_count": 73,
   "metadata": {},
   "outputs": [],
   "source": [
    "def conversion2_jour(jour):\n",
    "    ''' int -> str\n",
    "        Conversion : int -> str pour les jours de la semaine '''\n",
    "    Jour2 = {0:'lundi' ,1:'mardi',2:'mercredi',3:'jeudi',4:'vendredi',5:'samedi',6:'dimanche'}\n",
    "    return (Jour2[jour])"
   ]
  },
  {
   "cell_type": "code",
   "execution_count": 74,
   "metadata": {},
   "outputs": [
    {
     "data": {
      "text/plain": [
       "'lundi'"
      ]
     },
     "execution_count": 74,
     "metadata": {},
     "output_type": "execute_result"
    }
   ],
   "source": [
    "conversion2_jour(0)"
   ]
  },
  {
   "cell_type": "markdown",
   "metadata": {},
   "source": [
    "** changement de format pour l'heure **\n",
    "\n",
    "\"heure minute seconde\"  -> float(4 décimales)"
   ]
  },
  {
   "cell_type": "code",
   "execution_count": 75,
   "metadata": {},
   "outputs": [],
   "source": [
    "def conversion1_heure(heure_format):\n",
    "    ''' str -> float\n",
    "        Conversion : heure/minute/seconde -> float'''\n",
    "    Hentree = list(map(int,heure_format.split()))\n",
    "    seconde = 0\n",
    "    p= 2\n",
    "    for i in Hentree:\n",
    "        seconde += i * pow(60,p)\n",
    "        p-=1\n",
    "    return ( round(seconde/3600,4) )"
   ]
  },
  {
   "cell_type": "code",
   "execution_count": 76,
   "metadata": {},
   "outputs": [
    {
     "data": {
      "text/plain": [
       "12.7014"
      ]
     },
     "execution_count": 76,
     "metadata": {},
     "output_type": "execute_result"
    }
   ],
   "source": [
    "# 12 h 42 et 5 secondes\n",
    "conversion1_heure(\"12 42 5\")"
   ]
  },
  {
   "cell_type": "markdown",
   "metadata": {},
   "source": [
    "float(4 décimales) -> \"heure minute seconde\""
   ]
  },
  {
   "cell_type": "code",
   "execution_count": 77,
   "metadata": {},
   "outputs": [],
   "source": [
    "def conversion2_heure(heure_format):\n",
    "    '''float -> str\n",
    "       Conversion : float -> heure/minute/seconde'''\n",
    "    H = ''\n",
    "    heure = int(heure_format)\n",
    "    seconde = round( (heure_format - heure) * 3600 )\n",
    "    H += str(heure) + ' ' + str(seconde//60) + ' ' + str(seconde%60)\n",
    "    return H"
   ]
  },
  {
   "cell_type": "code",
   "execution_count": 78,
   "metadata": {},
   "outputs": [
    {
     "data": {
      "text/plain": [
       "'1 30 0'"
      ]
     },
     "execution_count": 78,
     "metadata": {},
     "output_type": "execute_result"
    }
   ],
   "source": [
    "conversion2_heure(1.5)"
   ]
  },
  {
   "cell_type": "markdown",
   "metadata": {},
   "source": [
    "### III. Ici nous etudions l'evolution du remplissage de la bibliothèque en fonction du temps  "
   ]
  },
  {
   "cell_type": "code",
   "execution_count": 79,
   "metadata": {},
   "outputs": [],
   "source": [
    "# Exemple : horaire pour la BDL\n",
    "horaire = [(9,22) , (9,22) , (9,22) , (9,22) , (9,22) , (10,20),(0,0)]\n",
    "\n",
    "def est_ouvert(heure,jour,horaire):\n",
    "    '''float * str * dict[tuple] -> bool\n",
    "    indique si la bibliotheque est ouverte ou fermée en fonction de l'heure actuelle 'heure', \n",
    "    du jour de la semaine 'jour' et des horaires d'ouverture 'horaire'  '''\n",
    "    j = conversion1_jour(jour)\n",
    "    date = horaire[j]\n",
    "    if date!= (0,0):\n",
    "        ouverture = date[0]\n",
    "        fermeture = date[1]\n",
    "        return ouverture <= heure < fermeture\n",
    "    return False"
   ]
  },
  {
   "cell_type": "code",
   "execution_count": 80,
   "metadata": {},
   "outputs": [
    {
     "name": "stdout",
     "output_type": "stream",
     "text": [
      "False\n"
     ]
    }
   ],
   "source": [
    "# Exemple : On teste si la bibliothèque est ouverte le lundi à 11h.\n",
    "print( est_ouvert(22,'lundi',horaire) )"
   ]
  },
  {
   "cell_type": "markdown",
   "metadata": {},
   "source": [
    "Nouvelle modélisation en tenant compte du paramètre horaire.\n",
    "De plus, nous introduirons trois nouvelles fonctions : nb_entre, nb_sortie et aff_actu.\n"
   ]
  },
  {
   "cell_type": "markdown",
   "metadata": {},
   "source": [
    "***Nous avons collecté les affluences de la bibliothèque des licences pour une semaine.\n",
    "Avec notre modèle, nous allons essayer de retrouver ces données.***"
   ]
  },
  {
   "cell_type": "code",
   "execution_count": 81,
   "metadata": {},
   "outputs": [],
   "source": [
    "#affluence selon l'heure et le jour. Toutes les listes ont le même nombre d'éléments.\n",
    "#On comble les trous s'il y en a.(samedi)\n",
    "\n",
    "semaine = {'lundi' : [0.17, 0.33, 0.42, 0.5, 0.58, 0.58, 0.67, 0.75, 0.83, 0.92, 0.75, 0.5, 0.25] , \n",
    " 'mardi' : [0.08, 0.17, 0.25, 0.33, 0.42, 0.42, 0.42, 0.5, 0.58, 0.58, 0.5, 0.33, 0.17] , \n",
    " 'mercredi' : [0.17, 0.33, 0.42, 0.5, 0.5, 0.5, 0.58, 0.58, 0.58, 0.5, 0.33, 0.25, 0.08] ,\n",
    " 'jeudi' : [0.08, 0.17, 0.25, 0.33, 0.5, 0.58, 0.5, 0.5, 0.67, 0.75, 0.67, 0.42, 0.17] , \n",
    " 'vendredi' : [0.08, 0.25, 0.5, 0.58, 0.67, 0.83, 0.83, 0.67, 0.67, 0.67, 0.67, 0.42, 0.17] , \n",
    " 'samedi' : [0,0.25, 0.75, 0.58, 0.75, 0.92, 0.83, 0.83, 1.0, 0.75, 0.25,0,0] }"
   ]
  },
  {
   "cell_type": "code",
   "execution_count": 82,
   "metadata": {},
   "outputs": [
    {
     "data": {
      "text/plain": [
       "0.25"
      ]
     },
     "execution_count": 82,
     "metadata": {},
     "output_type": "execute_result"
    }
   ],
   "source": [
    "def aff_actu(heure,jour):\n",
    "    ''' float * str -> float\n",
    "        retourne l'affluence actuelle à une heure donnée dans une bibliothèque\n",
    "        Si la bibliothèque est fermée retourne 0'''\n",
    "    if est_ouvert(heure,jour,horaire):\n",
    "        x=semaine[jour][int(heure-9)]\n",
    "        return x\n",
    "    return 0\n",
    "aff_actu(10,\"samedi\")"
   ]
  },
  {
   "cell_type": "code",
   "execution_count": 83,
   "metadata": {},
   "outputs": [],
   "source": [
    "#tirage aléatoire du nombre d'entrée\n",
    "\n",
    "# aff : le taux d'affluence actuelle\n",
    "# afflim : le taux d'affluence à partir duquel la personne hésite\n",
    "# p1 : la probabilité que la personne ne rentre pas dans la bibliothèque\n",
    "#emax : nombre de place restant\n",
    "#t: heure actuelle\n",
    "#nb: nombre de tirage\n",
    "# s: nombre de personnes qui entrent\n",
    "# phase : découpage de la journée en plusieurs phases\n",
    "\n",
    "def nb_entre(aff,afflim,p1,emax):\n",
    "    s=0\n",
    "    nb= 150\n",
    "    nb=np.random.randint(0,nb)\n",
    "    if nb>emax:\n",
    "        nb = emax\n",
    "    for i in range(nb):\n",
    "        s += alea_entree(aff,afflim,p1)\n",
    "    return s\n"
   ]
  },
  {
   "cell_type": "code",
   "execution_count": 84,
   "metadata": {},
   "outputs": [],
   "source": [
    "#idem que pour nb_entre\n",
    "\n",
    "def nb_sortie(aff,afflim,p2,bt):\n",
    "    s=0\n",
    "    nb= 1500\n",
    "    nb=np.random.randint(0,nb)\n",
    "    if nb>bt:\n",
    "        nb = bt \n",
    "        \n",
    "    for i in range(nb):\n",
    "        s += alea_sortie(aff,afflim,p2)\n",
    "    return s\n"
   ]
  },
  {
   "cell_type": "code",
   "execution_count": 85,
   "metadata": {},
   "outputs": [],
   "source": [
    "# Bibliothèquetemp permet  en fonction des horaires d'ouverture de la bibliothèque\n",
    "# et de l'heure de la journée de faire des entrée/sortie multiple.\n",
    "\n",
    "#bt0: nombre initial de personne dans la bibliothèque. \n",
    "# bt : nombre de personne dans la bibliothèque à l'instant t\n",
    "#btmax: nombre de places de la bibliothèque.\n",
    "# aff : le taux d'affluence actuelle\n",
    "# afflim : le taux d'affluence à partir duquel la personne hésite\n",
    "# p1 : la probabilité que la personne ne rentre pas dans la bibliothèque\n",
    "# p2 : la probabilité que la personne ne sort pas de la bibliothèque\n",
    "# On fera un cycle de 24h\n",
    "\n",
    "# Exemple : horaire pour la BDL\n",
    "horaire = [(9,22) , (9,22) , (9,22) , (9,22) , (9,22) , (10,20),(0,0)]\n",
    "\n",
    "def bibliothèquetemp(bt0,btmax,afflim,p1,p2,jour):\n",
    "                    #(int,int,float,float,float,int)\n",
    "    ''' hyp : bt0 <= bt'''\n",
    "    bt=bt0\n",
    "    aff=bt/btmax\n",
    "    L=[bt0]\n",
    "    for t in range(24):\n",
    "        if est_ouvert(t,jour,horaire):\n",
    "            emax = btmax-bt\n",
    "            a = nb_entre(aff,afflim,p1,emax)\n",
    "            b = nb_sortie(aff,afflim,p2,bt)\n",
    "            if bt < btmax:\n",
    "                bt += a\n",
    "            if bt>0:\n",
    "                bt-=b\n",
    "        else:\n",
    "            bt=0\n",
    "        L.append(bt)\n",
    "        aff=bt/btmax\n",
    "    return L\n",
    "        \n",
    "    \n"
   ]
  },
  {
   "cell_type": "markdown",
   "metadata": {},
   "source": [
    "affichons la courbe"
   ]
  },
  {
   "cell_type": "code",
   "execution_count": 86,
   "metadata": {},
   "outputs": [
    {
     "data": {
      "image/png": "[encoded data removed]",
      "text/plain": [
       "<Figure size 432x288 with 1 Axes>"
      ]
     },
     "metadata": {
      "needs_background": "light"
     },
     "output_type": "display_data"
    }
   ],
   "source": [
    "def plotb1(L):\n",
    "    plt.figure()\n",
    "    plt.plot(L)\n",
    "    plt.ylabel(\"Nombre de personne dans la bibliothèque\")\n",
    "    plt.xlabel(\"nombre d'heures\")\n",
    "    plt.xticks([i for i in range(0,25,2)])\n",
    "    plt.show()\n",
    "    return \n",
    "plotb1(bibliothèquetemp(0,745,.8,.9,.95,\"mardi\"))\n",
    "                      #(bt0,btmax,afflim,p1,p2,jour)"
   ]
  },
  {
   "cell_type": "markdown",
   "metadata": {},
   "source": [
    "#t0,btmax,afflim,p1,p2,n\n",
    "\n",
    "nous voyons que plus la probabilité p1 de ne pas entrer est plus grande\n"
   ]
  },
  {
   "cell_type": "markdown",
   "metadata": {},
   "source": [
    "### IV. sortie et entrée aléatoire multiple:"
   ]
  },
  {
   "cell_type": "markdown",
   "metadata": {},
   "source": [
    "Nous allons améliorer notre modèle en découpant une journée en plusieurs phases  : \n",
    "\n",
    "'bigenter' : période d'importante entrée \n",
    "\n",
    "'bigexit' : période d'importante sortie \n",
    "\n",
    "'bigstay' : période avec flux (entrée et/ou sortie) très faible \n",
    "\n",
    "'unknown' : période de flux inconnu (ce sont les heures qui restent)\n",
    "\n",
    "NB : Les phases peuvent être cumulées (attention aux incompatibilités!)\n"
   ]
  },
  {
   "cell_type": "code",
   "execution_count": 87,
   "metadata": {},
   "outputs": [],
   "source": [
    "# On suppose que phase est valide\n",
    "# L'union de tous les intervalles doit correspondre aux ouvertures de la bibliothèque\n",
    "# Les intervalles sont disjoints, de la forme ']debut,fin]'\n",
    "\n",
    "phase = {'bigenter': [(10,11) , (17,19)] ,  # (arrivée) , (fin des cours)\n",
    "         'bigexit' : [(12,13) , (21,22)]  , # (déjeuner), (retour chez soi)\n",
    "         'bigstay':  [(9,10) , (11,12) , (14,17)] , # (arrivée) , (cours) , (cours)\n",
    "         'unknown':  [(13,14) , (19,21)]  } "
   ]
  },
  {
   "cell_type": "code",
   "execution_count": 88,
   "metadata": {},
   "outputs": [],
   "source": [
    "def decoupage(phase,heure):\n",
    "    ''' dict * float -> str\n",
    "        retourne la phase correspondante à l'heure\n",
    "        hyp : est_ouvert(heure...) == True '''\n",
    "    for cle in phase:\n",
    "        for couple in phase[cle]:\n",
    "            debut=couple[0] \n",
    "            fin=couple[1]\n",
    "            if debut <= heure < fin:\n",
    "                return cle\n",
    "    return 'error'"
   ]
  },
  {
   "cell_type": "code",
   "execution_count": 89,
   "metadata": {},
   "outputs": [
    {
     "name": "stdout",
     "output_type": "stream",
     "text": [
      "error 0\n",
      "error 1\n",
      "error 2\n",
      "error 3\n",
      "error 4\n",
      "error 5\n",
      "error 6\n",
      "error 7\n",
      "error 8\n",
      "bigstay 9\n",
      "bigenter 10\n",
      "bigstay 11\n",
      "bigexit 12\n",
      "unknown 13\n",
      "bigstay 14\n",
      "bigstay 15\n",
      "bigstay 16\n",
      "bigenter 17\n",
      "bigenter 18\n",
      "unknown 19\n",
      "unknown 20\n",
      "bigexit 21\n",
      "error 22\n",
      "error 23\n"
     ]
    }
   ],
   "source": [
    "#Voici un test pour vérifier la fonction découpage, elle ne doit pas retourner 'error' aux horaires d'ouverture\n",
    "for i in range(24):\n",
    "        print( decoupage(phase,i) ,i )\n",
    "#On retourne 'error' aux horaires de fermeture"
   ]
  },
  {
   "cell_type": "code",
   "execution_count": 90,
   "metadata": {},
   "outputs": [],
   "source": [
    "#emax : nombre de place restant\n",
    "# bt : nombre de personne dans la bibliothèque à l'instant t\n",
    "#nb: nombre d'entree/sortie\n",
    "def correction(nb,bt,emax):\n",
    "    '''retourne le nombre d'entrée réalisable.'''\n",
    "    if nb >= 0:\n",
    "        if nb > emax:\n",
    "            nb = emax\n",
    "    else:\n",
    "        if -nb > bt: #le signe '-' correspond à la valeur absolue\n",
    "            nb = -bt    \n",
    "    return nb"
   ]
  },
  {
   "cell_type": "code",
   "execution_count": 91,
   "metadata": {
    "scrolled": true
   },
   "outputs": [
    {
     "name": "stdout",
     "output_type": "stream",
     "text": [
      "10\n",
      "-400\n"
     ]
    }
   ],
   "source": [
    "#Nous allons tester correction(nb,bt,emax)\n",
    "\n",
    "print(correction(500,500,10))\n",
    "# Nous avons 500 personnes dans la bibliothèque et il reste 10 places libres.\n",
    "# Nous essayons de faire entrer 500 personnes, mais ce n'est pas possible\n",
    "\n",
    "print(correction(-551,400,10))\n",
    "#Nous pouvons faire sortir au maximumle nombre de personne qu'il y a dans la bibliothèque"
   ]
  },
  {
   "cell_type": "markdown",
   "metadata": {},
   "source": [
    "*** Si nb_flux est positif, il est compté en entrée, sinon en sortie ***"
   ]
  },
  {
   "cell_type": "markdown",
   "metadata": {},
   "source": [
    "***exemple:***\n",
    "\n",
    "'bigenter' : nbtir 100\n",
    "\n",
    "'bigexit' : -100\n",
    "\n",
    "'bigstay' : -10 à 10\n",
    "\n",
    "'unknown' : -100 à 100\n"
   ]
  },
  {
   "cell_type": "code",
   "execution_count": 92,
   "metadata": {},
   "outputs": [],
   "source": [
    "def signe(nombre):\n",
    "    ''' Nombre -> Nombre\n",
    "        retourne 1 si Nombre est positif, sinon -1'''\n",
    "    if nombre < 0:\n",
    "        return -1\n",
    "    return 1"
   ]
  },
  {
   "cell_type": "code",
   "execution_count": 93,
   "metadata": {},
   "outputs": [
    {
     "name": "stdout",
     "output_type": "stream",
     "text": [
      "1\n",
      "-1\n",
      "1\n"
     ]
    }
   ],
   "source": [
    "print( signe(5) )\n",
    "print( signe(-5) )\n",
    "print( signe(0) )"
   ]
  },
  {
   "cell_type": "code",
   "execution_count": 94,
   "metadata": {},
   "outputs": [],
   "source": [
    "def alea_signe():\n",
    "    ''' None -> int\n",
    "        retourne aléatoirement 0 ou 1'''\n",
    "    u = np.random.random() # u est un nombre aléatoire entre 0 et 1\n",
    "    if u < 0.5: \n",
    "        return -1\n",
    "    return 1"
   ]
  },
  {
   "cell_type": "code",
   "execution_count": 95,
   "metadata": {},
   "outputs": [
    {
     "name": "stdout",
     "output_type": "stream",
     "text": [
      "0.484\n",
      "0.516\n"
     ]
    }
   ],
   "source": [
    "c1,c2 = 0,0\n",
    "for loop in range(1000):\n",
    "    a=alea_signe()\n",
    "    if a==1:\n",
    "        c1+=1\n",
    "    else:\n",
    "        c2+=1\n",
    "print(c1/1000)\n",
    "print(c2/1000)"
   ]
  },
  {
   "cell_type": "code",
   "execution_count": 96,
   "metadata": {},
   "outputs": [],
   "source": [
    "def alea_flux(aff):\n",
    "    '''\n",
    "    float->int\n",
    "    en fonction du taux d'affluence et d'une probabilité ,retourne 1 si l'élève rentre, sinon 0.\n",
    "    '''\n",
    "    u = np.random.random() # u est un nombre aléatoire entre 0 et 1\n",
    "    if u < 0.5: \n",
    "        return 0\n",
    "    return 1"
   ]
  },
  {
   "cell_type": "code",
   "execution_count": 97,
   "metadata": {},
   "outputs": [],
   "source": [
    "#Ce programme est identique à alea_signe()"
   ]
  },
  {
   "cell_type": "code",
   "execution_count": 98,
   "metadata": {},
   "outputs": [],
   "source": [
    "# s: nombre de personnes qui entrent ou qui sortent de al bibliothèque\n",
    "def nb_flux(aff,Nom_phase,btmax):\n",
    "    '''float * int * str * int -> int\n",
    "       retourne le nombre de flux'''  \n",
    "    \n",
    "    # Attention ! : 'bigstay' et 'unknown' sont en valeurs absolues\n",
    "    #Flux est un dictionnaire de proportion en fonction des phases\n",
    "    Flux = {\"bigenter\": 1/2,'bigexit' : -1/6, 'bigstay' : 1/70, 'unknown' : 1/4}\n",
    "    \n",
    "    nbtir=round(Flux[Nom_phase]*btmax)\n",
    "    s=0\n",
    "    for i in range(abs(nbtir)):\n",
    "        s += alea_flux(aff)\n",
    "    s*= signe(nbtir)\n",
    "    \n",
    "    if Nom_phase == 'bigstay' or Nom_phase == 'unknown':\n",
    "        s*=alea_signe()\n",
    "    return s"
   ]
  },
  {
   "cell_type": "code",
   "execution_count": 99,
   "metadata": {},
   "outputs": [
    {
     "data": {
      "text/plain": [
       "-141"
      ]
     },
     "execution_count": 99,
     "metadata": {},
     "output_type": "execute_result"
    }
   ],
   "source": [
    "# Voici un test de la fonction nb_flux(...) :\n",
    "nb_flux(0.5,\"unknown\",1000)"
   ]
  },
  {
   "cell_type": "markdown",
   "metadata": {},
   "source": [
    "Dans bibliothèquetemp2, nous supprimerons les paramètres afflim, p1, p2 pour simplifier nos fonctions. \n",
    "En d'autres termes, nous ne tiendrons plus compte de l'hésitation des étudiants."
   ]
  },
  {
   "cell_type": "code",
   "execution_count": 100,
   "metadata": {},
   "outputs": [],
   "source": [
    "# Bibliothèquetemp2 permet  en fonction des horaires d'ouverture de la bibliothèque\n",
    "# et de l'heure de la journée de faire des entrée/sortie multiple.\n",
    "\n",
    "#bt0: nombre initial de personne dans la bibliothèque. \n",
    "# bt : nombre de personne dans la bibliothèque à l'instant t\n",
    "#btmax: nombre de places de la bibliothèque.\n",
    "# aff : le taux d'affluence actuelle\n",
    "# afflim : le taux d'affluence à partir duquel la personne hésite\n",
    "# emax : nombre place restant\n",
    "# nb : nombre d'entree/sortie\n",
    "# On fera un cycle de 24h\n",
    "\n",
    "# Exemple : horaire pour la BDL\n",
    "horaire = [(9,22) , (9,22) , (9,22) , (9,22) , (9,22) , (10,20),(0,0)]\n",
    "\n",
    "# On suppose que phase est valide.\n",
    "\n",
    "#découpage de la journée en plusieurs phases\n",
    "\n",
    "phase = {'bigenter': [(10,11) , (17,19)] ,  # (arrivée) , (fin des cours)\n",
    "         'bigexit' : [(12,13) , (21,22)]  , # (déjeuner), (retour chez soi)\n",
    "         'bigstay':  [(9,10) , (11,12) , (14,17)] , # (arrivée) , (cours) , (cours)\n",
    "         'unknown':  [(13,14) , (19,21)]  } \n",
    "\n",
    "def bibliothèquetemp2(bt0,btmax,jour):\n",
    "                    #(int,int,str)\n",
    "    ''' hyp : 0 <= bt <= btmax\n",
    "        retourne la liste des affluences pour toutes les heures de la journée'''\n",
    "    bt=bt0\n",
    "    aff=bt/btmax\n",
    "    L=[bt0]\n",
    "    for t in range(24):\n",
    "        if est_ouvert(t,jour,horaire):\n",
    "            Nom_phase = decoupage(phase,t)\n",
    "            emax = btmax-bt\n",
    "            nb=nb_flux(aff,Nom_phase,btmax)\n",
    "            nb=correction(nb,bt,emax)\n",
    "            bt+=nb\n",
    "        else:\n",
    "            bt=0\n",
    "            \n",
    "        L.append(bt)\n",
    "        aff=bt/btmax\n",
    "    return L"
   ]
  },
  {
   "cell_type": "code",
   "execution_count": 101,
   "metadata": {},
   "outputs": [
    {
     "data": {
      "text/plain": [
       "[0,\n",
       " 0,\n",
       " 0,\n",
       " 0,\n",
       " 0,\n",
       " 0,\n",
       " 0,\n",
       " 0,\n",
       " 0,\n",
       " 0,\n",
       " 0,\n",
       " 184,\n",
       " 188,\n",
       " 125,\n",
       " 31,\n",
       " 24,\n",
       " 19,\n",
       " 15,\n",
       " 200,\n",
       " 382,\n",
       " 281,\n",
       " 371,\n",
       " 323,\n",
       " 0,\n",
       " 0]"
      ]
     },
     "execution_count": 101,
     "metadata": {},
     "output_type": "execute_result"
    }
   ],
   "source": [
    "bibliothèquetemp2(0,745,\"lundi\")"
   ]
  },
  {
   "cell_type": "code",
   "execution_count": 102,
   "metadata": {},
   "outputs": [
    {
     "data": {
      "image/png": "[encoded data removed]",
      "text/plain": [
       "<Figure size 432x288 with 1 Axes>"
      ]
     },
     "metadata": {
      "needs_background": "light"
     },
     "output_type": "display_data"
    }
   ],
   "source": [
    "def plotb2(L):\n",
    "    plt.figure()\n",
    "    plt.plot(L)\n",
    "    plt.ylabel(\"Nombre de personne dans la bibliothèque\")\n",
    "    plt.xlabel(\"nombre d'heures\")\n",
    "    plt.xticks([i for i in range(0,25,1)])\n",
    "    plt.show()\n",
    "    return \n",
    "plotb1(bibliothèquetemp2(0,745,\"lundi\"))"
   ]
  },
  {
   "cell_type": "markdown",
   "metadata": {},
   "source": [
    "## Partie 2 : Remplissage avec une géographie de la bibliothèque et un fichier de l'étudiant"
   ]
  },
  {
   "cell_type": "markdown",
   "metadata": {},
   "source": [
    "###  I. Fonction génératrice de fichier Personne "
   ]
  },
  {
   "cell_type": "markdown",
   "metadata": {},
   "source": [
    "Dans notre fichier **Personne**, nous avons les données suivantes : \n",
    "\n",
    "    _âge \n",
    "    _etat social \n",
    "    _étude\n",
    "    _emploi du temps"
   ]
  },
  {
   "cell_type": "markdown",
   "metadata": {},
   "source": [
    "**age** : L'age sera compris entre 18 et 29 ans.\n",
    "\n",
    "**etat social** : L'état social est le nombre d' \"accompagnateurs\" d'une personne, compris entre 0 et 10\n",
    "\n",
    "**étude** : Nous tiendrons compte des études que l'on peut faire à Jussieu, c'est à dire :\n",
    "\n",
    "            _ le niveau d'étude : licence, master, doctorat ou autre.\n",
    "            _ le nom du diplôme préparé : mathématiques, physiques... (Nous serons plus précis sur ce point-là)\n",
    "            _ l'année en cours dans le diplôme : de 1 à 5\n",
    "            _ Voici un lien : http://sciences.sorbonne-universite.fr/fr/formations/diplomes.html\n",
    "\n",
    "**emploi du temps** : Il permet de définir les plages horaires quand l'étudiant sera susceptible d'aller à la bibliothèque. C'est plages excluent : heure de déjeûner, heure de cours, heure de loisirs..."
   ]
  },
  {
   "cell_type": "markdown",
   "metadata": {},
   "source": [
    "a) **Catégorie d'âge dans l'ensemble des étudiants**\n",
    "\n",
    "Nous définissons trois catégories d'âge : avec p, une proportion.\n",
    "\n",
    "    _18 à 21 ans : p1 = ...\n",
    "    _21 à 25 ans : p2 = ...\n",
    "    _26 à 29 ans : p3 = ...\n",
    "  "
   ]
  },
  {
   "cell_type": "markdown",
   "metadata": {},
   "source": [
    "b) **Catégorie pour les etats sociaux**\n",
    "\n",
    "Nous déterminons les proportions en fonction d'intervalles : \n",
    "\n",
    "Les valeurs sont le nombre de personne accompagnatrices.\n",
    "\n",
    "    _0 : p1 = ...\n",
    "    _1 : p2 = ...\n",
    "    _2 à 5 : p3 = ...\n",
    "    _6 à 8 : p4 = ...\n",
    "    _9 à 10 : p5= ..."
   ]
  },
  {
   "cell_type": "markdown",
   "metadata": {},
   "source": [
    "c) **Différentes études**\n",
    "    \n",
    "    Le niveau d'étude et l'année en cours du diplôme ont été déterminés précédemment\n",
    "    \n",
    "    c.1) nom du diplôme préparé : \n",
    "    \n",
    "                ** licence ** : cycle d'intégration, chimie, électronique, informatique, mathématiques, mécanique,    physique, technologie, terre_vie.\n",
    "        ** master** : bio, chimie, informatique, mathématiques, physique, ingénieur, enseignement, terre_vie.\n",
    "        ** doctorat** : modélisation et ingénierie, énergie_matiere_univers, terre_vivante_environnement, vie_sante\n",
    "   "
   ]
  },
  {
   "cell_type": "markdown",
   "metadata": {},
   "source": [
    "d) **Emploi du temps**\n",
    "\n",
    "    Cette partie nécessite la création de fonctions génératrices \"d'emploi du temps\" avec une période de loisirs et une période     \"bibliothèque\".\n",
    "    \n",
    "    d.1) Loisirs : \n",
    "    \n",
    "        Remarque : Les loisirs sont les périodes durant lesquelles, l'étudiant ne peut pas aller à la bibliothèque.\n",
    "        pause_déjêuner, DVE, DAPS, sur_campus, extra_scolaires, salle_info...\n",
    "    "
   ]
  },
  {
   "cell_type": "markdown",
   "metadata": {},
   "source": [
    "Maintenant nous allons construire tout les éléments dont nous avons besoin pour cette partie."
   ]
  },
  {
   "cell_type": "code",
   "execution_count": 103,
   "metadata": {},
   "outputs": [],
   "source": [
    "%matplotlib inline     \n",
    "# ^Sans animations\n",
    "# %matplotlib notebook \n",
    "# ^Avec animations\n",
    "import numpy as np\n",
    "import matplotlib.pyplot as plt\n",
    "from matplotlib import animation\n",
    "from pylab import*\n",
    "from random import randint"
   ]
  },
  {
   "cell_type": "markdown",
   "metadata": {},
   "source": [
    "**Nous crééons une fonction génératrice d'âges, en tenant compte de probabilité**"
   ]
  },
  {
   "cell_type": "code",
   "execution_count": 104,
   "metadata": {},
   "outputs": [
    {
     "name": "stdout",
     "output_type": "stream",
     "text": [
      "p :  1.0\n",
      "Le dictionnaire est True\n"
     ]
    }
   ],
   "source": [
    "#Voici notre dictionnaire de probabilité p_age\n",
    "\n",
    "# valeur = probabilité et clé = age compris entre deux bornes ([debut,fin])\n",
    "p_age = {(18,21) : 0.5 , (22,25) : 0.3 , (26,29) : 0.2}\n",
    "\n",
    "# On teste si la somme des probabilités vaut 1\n",
    "\n",
    "def verif_dic(dictionnaire):\n",
    "    s=0.0\n",
    "    for valeur in dictionnaire.values():\n",
    "        s+=valeur\n",
    "    print(\"p : \",s)\n",
    "    print(\"Le dictionnaire est\",s==1)\n",
    "\n",
    "verif_dic(p_age)"
   ]
  },
  {
   "cell_type": "code",
   "execution_count": 105,
   "metadata": {},
   "outputs": [
    {
     "data": {
      "text/plain": [
       "23"
      ]
     },
     "execution_count": 105,
     "metadata": {},
     "output_type": "execute_result"
    }
   ],
   "source": [
    "def Age():\n",
    "    ''' retourne un entier compris entre 18 et 29 ans en tenant compte de probabilité'''\n",
    "            \n",
    "    u = np.random.random()\n",
    "    s = 0\n",
    "    for k in p_age.keys():\n",
    "        s += p_age[k]\n",
    "        if u < s:\n",
    "            debut = k[0]\n",
    "            fin = k[1]\n",
    "            return randint(debut,fin)\n",
    "Age()"
   ]
  },
  {
   "cell_type": "markdown",
   "metadata": {},
   "source": [
    "Nous vérifions que la fonction age() retourne bien aléatoirement des âges du dictionnaire p_age en tenant compte de probabilités."
   ]
  },
  {
   "cell_type": "code",
   "execution_count": 106,
   "metadata": {},
   "outputs": [
    {
     "data": {
      "text/plain": [
       "{(18, 21): 5043, (22, 25): 2910, (26, 29): 2047}"
      ]
     },
     "execution_count": 106,
     "metadata": {},
     "output_type": "execute_result"
    }
   ],
   "source": [
    "def verif_age1():\n",
    "    stat_age = { (18,21) :0 , (22,25):0 , (26,29): 0}\n",
    "    age = 0\n",
    "    for loop in range(10000):\n",
    "        age = Age()\n",
    "        for cle in stat_age:\n",
    "            debut = cle[0]\n",
    "            fin = cle[1]\n",
    "            if debut <=age <= fin:\n",
    "                stat_age[cle] += 1\n",
    "    return stat_age\n",
    "verif_age1()\n",
    "# Les valeurs du dictionnaire retourné correspondes aux probabilités associées aux intervalles"
   ]
  },
  {
   "cell_type": "code",
   "execution_count": 107,
   "metadata": {},
   "outputs": [
    {
     "data": {
      "text/plain": [
       "[0,\n",
       " 0,\n",
       " 0,\n",
       " 0,\n",
       " 0,\n",
       " 0,\n",
       " 0,\n",
       " 0,\n",
       " 0,\n",
       " 0,\n",
       " 0,\n",
       " 0,\n",
       " 0,\n",
       " 0,\n",
       " 0,\n",
       " 0,\n",
       " 0,\n",
       " 0,\n",
       " 1296,\n",
       " 1221,\n",
       " 1315,\n",
       " 1241,\n",
       " 764,\n",
       " 751,\n",
       " 703,\n",
       " 713,\n",
       " 534,\n",
       " 505,\n",
       " 480,\n",
       " 477]"
      ]
     },
     "execution_count": 107,
     "metadata": {},
     "output_type": "execute_result"
    }
   ],
   "source": [
    "def verif_age2():\n",
    "    stat_age =  { (18,21) :0 , (22,25):0 , (26,29): 0}\n",
    "    # on créer une liste pour stocker le nombre doccurences de chaque âge\n",
    "    L =[0]*12\n",
    "    age = 0\n",
    "    for loop in range(10000):\n",
    "        age = Age()\n",
    "        L[age-18] += 1\n",
    "    return[ 0]*18 + L\n",
    "verif_age2() \n",
    "# On remarque que la probabilité d'avoir un âge donné est égale à la probabilité de la tranche d'âge, divisée par 4."
   ]
  },
  {
   "cell_type": "code",
   "execution_count": 108,
   "metadata": {},
   "outputs": [
    {
     "data": {
      "image/png": "[encoded data removed]",
      "text/plain": [
       "<Figure size 432x288 with 1 Axes>"
      ]
     },
     "metadata": {
      "needs_background": "light"
     },
     "output_type": "display_data"
    }
   ],
   "source": [
    "def plot_age(L):\n",
    "    plt.figure()\n",
    "    plt.gca().set_xlim(18, 30)\n",
    "    plt.ylabel(\"occurence pour chaque année d'age\")\n",
    "    plt.xlabel(\"age\")\n",
    "    plt.plot(L)\n",
    "    plt.show()\n",
    "    return\n",
    "plot_age(verif_age2())"
   ]
  },
  {
   "cell_type": "markdown",
   "metadata": {},
   "source": [
    "** Nous allons créer pas à pas une fonction génératrice d'emploi du temps, dont le résultat dépend des études des personnes et qui retourne un booléen**"
   ]
  },
  {
   "cell_type": "markdown",
   "metadata": {},
   "source": [
    "Nous utiliserons les probabilités conditionnelles, d'où la formule :"
   ]
  },
  {
   "cell_type": "markdown",
   "metadata": {},
   "source": [
    "p\n",
    "B\n",
    "(\n",
    "A\n",
    ") =\n",
    "p\n",
    "(\n",
    "A\n",
    "∩\n",
    "B\n",
    ")\n",
    "/\n",
    "p\n",
    "(\n",
    "B\n",
    ")\n",
    ".\n",
    "\n",
    "Soit :\n",
    "\n",
    "_A : préparer ou  avoir un diplôme donné"
   ]
  },
  {
   "cell_type": "code",
   "execution_count": 91,
   "metadata": {},
   "outputs": [
    {
     "name": "stdout",
     "output_type": "stream",
     "text": [
      "p :  1.0\n",
      "Le dictionnaire est True\n"
     ]
    },
    {
     "data": {
      "text/plain": [
       "'doctorat'"
      ]
     },
     "execution_count": 91,
     "metadata": {},
     "output_type": "execute_result"
    }
   ],
   "source": [
    "dic_diplome = {'licence' :0.17,'master': 0.27, 'doctorat' : 0.56}\n",
    "verif_dic(dic_diplome)\n",
    "def diplome():\n",
    "    '''int -> str\n",
    "    retourne un  nom de diplôme en tenant compte du dictionnaire dic_diplôme'''\n",
    "    u = np.random.random()\n",
    "    s = 0\n",
    "    for k in dic_diplome.keys():\n",
    "        s += dic_diplome[k]\n",
    "        if u < s:\n",
    "            return k\n",
    "diplome()"
   ]
  },
  {
   "cell_type": "markdown",
   "metadata": {
    "collapsed": true
   },
   "source": [
    "c.1) nom du diplôme préparé : \n",
    "    \n",
    "         ** licence ** : cycle d'intégration, chimie, électronique, informatique, mathématiques, mécanique,    physique, technologie, terre_vie.\n",
    "        ** master** : bio, chimie, informatique, mathématiques, physique, ingénieur, enseignement, terre_vie.\n",
    "        ** doctorat** : modélisation et ingénierie, énergie_matiere_univers, terre_vivante_environnement, vie_sante\n",
    "   "
   ]
  },
  {
   "cell_type": "code",
   "execution_count": null,
   "metadata": {
    "collapsed": true
   },
   "outputs": [],
   "source": [
    "#Crééons trois listes contenant les différentes matières enseignées selon le diplôme préparé.\n",
    "\n",
    "licence = ['integration', 'chimie' , 'electronique' , 'informatique', 'mathematiques', 'mecanique', 'physique', \n",
    "           'technologie', 'terre']\n",
    "master = ['bio', 'chimie' , 'informatique','mathematiques', 'physique','ingenieur','enseignement', 'terre']\n",
    "doctorat = ['modelisation', 'energie','terre','sante']"
   ]
  },
  {
   "cell_type": "markdown",
   "metadata": {},
   "source": [
    "Notre nouvelle fonction retournera les intervalles de temps durant lequel l'étudiant est susceptible de venir\n",
    "à la bibliothèque."
   ]
  },
  {
   "cell_type": "markdown",
   "metadata": {},
   "source": [
    " Voici les différents 'loisirs' :   \n",
    " pause_déjêuner, DVE, DAPS, sur_campus, extra_scolaires, salle_info..."
   ]
  },
  {
   "cell_type": "code",
   "execution_count": 95,
   "metadata": {},
   "outputs": [
    {
     "ename": "NameError",
     "evalue": "name 'p' is not defined",
     "output_type": "error",
     "traceback": [
      "\u001b[0;31m---------------------------------------------------------------------------\u001b[0m",
      "\u001b[0;31mNameError\u001b[0m                                 Traceback (most recent call last)",
      "\u001b[0;32m<ipython-input-95-7e4872094d7c>\u001b[0m in \u001b[0;36m<module>\u001b[0;34m()\u001b[0m\n\u001b[1;32m      2\u001b[0m \u001b[0;31m# régulièrement ce loisir et un intervalle de temps où le loisir ne sera pas réalisable.\u001b[0m\u001b[0;34m\u001b[0m\u001b[0;34m\u001b[0m\u001b[0m\n\u001b[1;32m      3\u001b[0m \u001b[0;34m\u001b[0m\u001b[0m\n\u001b[0;32m----> 4\u001b[0;31m loisir = { 'dejeuner':(p,()), 'DVE' :(p,()), \n\u001b[0m\u001b[1;32m      5\u001b[0m           'DAPS': (p,()) ,'campus' : (p,()) , 'extra': (p,()) , 'salle':(p,()) }\n",
      "\u001b[0;31mNameError\u001b[0m: name 'p' is not defined"
     ]
    }
   ],
   "source": [
    "# Nous crééons un dictionnaire qui associera à chaque loisir, une proportion des étudiants qui pratiquent \n",
    "# régulièrement ce loisir et un intervalle de temps où le loisir sera réalisé.\n",
    "\n",
    "loisir = { 'dejeuner':(0.99,(11,14)), 'VE' :(0.2,()), \n",
    "          'DAPS': (0.1,()) ,'campus' : (,()) , 'extra': (p,()) , 'salle':(p,()) }"
   ]
  },
  {
   "cell_type": "markdown",
   "metadata": {},
   "source": [
    "**Nous définissons la classe \"Personne\" avec les attributs qui la caractérisent**"
   ]
  },
  {
   "cell_type": "code",
   "execution_count": 64,
   "metadata": {
    "collapsed": true
   },
   "outputs": [],
   "source": [
    "class Personne:\n",
    "\n",
    "    \"\"\"Classe définissant une personne caractérisée par :\n",
    "\n",
    "    - âge\n",
    "\n",
    "    - etat social\n",
    "\n",
    "    - étude\n",
    "\n",
    "    - emploi du temps  \"\"\"\n",
    "    \n",
    "    def __init__(self, age, etat_social, etude, emploi_temps):\n",
    "\n",
    "        \"\"\"Constructeur de notre classe\"\"\"\n",
    "\n",
    "        self.age = age\n",
    "\n",
    "        self.etat_social = etat_social\n",
    "\n",
    "        self.etude = etude\n",
    "\n",
    "        self.emploi_temps = emploi_temps\n"
   ]
  },
  {
   "cell_type": "markdown",
   "metadata": {},
   "source": [
    "Nous définissons une classe **compteur_Personne** qui nous permettra de compter le nombre d'objets de classe Personne"
   ]
  },
  {
   "cell_type": "code",
   "execution_count": 59,
   "metadata": {
    "collapsed": true
   },
   "outputs": [],
   "source": [
    "class Compteur_Personne:\n",
    "\n",
    "    \"\"\"Cette classe possède un attribut de classe qui s'incrémente à chaque\n",
    "\n",
    "    fois que l'on crée un objet de ce type\"\"\"\n",
    "\n",
    "\n",
    "    objets_crees = 0 # Le compteur vaut 0 au départ\n",
    "\n",
    "    def __init__(self):\n",
    "\n",
    "        \"\"\"À chaque fois qu'on crée un objet, on incrémente le compteur\"\"\"\n",
    "\n",
    "        Compteur_Personne.objets_crees += 1"
   ]
  },
  {
   "cell_type": "code",
   "execution_count": null,
   "metadata": {
    "collapsed": true
   },
   "outputs": [],
   "source": []
  },
  {
   "cell_type": "markdown",
   "metadata": {},
   "source": [
    "## II.Modélisation géographique"
   ]
  },
  {
   "cell_type": "markdown",
   "metadata": {},
   "source": [
    "La bibliothèque se compose de salles de travail et de place commune, nous allons nous interesser aux place commune car les salles de travail fonctionnent par reservation, Nous avons donc  : btmax= 400 places."
   ]
  },
  {
   "cell_type": "markdown",
   "metadata": {},
   "source": [
    "***Remplissage d'une matrice de nombre en fonction de l'etude et l'etat_social.***\n",
    "\n",
    "Les nombres  utilisées sont : 1 0 -1\n",
    "\n",
    "\"1\": place occupée\n",
    "\n",
    "\"0\": place libre\n",
    "\n",
    "\"-1\": espace non utilisable (murs,allées...)"
   ]
  },
  {
   "cell_type": "markdown",
   "metadata": {},
   "source": [
    "    M =np.zeros((nblignes,nbcolonnes),dtype = ...)\n",
    "\n",
    "    len(M[:,0]))  : # nombre de lignes.\n",
    "    len(M[0,:])) : # nombre de colonnes.\n",
    "    \n",
    "    M[:,y] accès pour la y+1 ème colonne.\n",
    "    M[x,:] accès pour la x+1 ème ligne."
   ]
  },
  {
   "cell_type": "markdown",
   "metadata": {},
   "source": [
    "### A.Nous crééons le côté math de la BDL."
   ]
  },
  {
   "cell_type": "code",
   "execution_count": 28,
   "metadata": {},
   "outputs": [],
   "source": [
    "%matplotlib inline     \n",
    "# ^Sans animations\n",
    "# %matplotlib notebook \n",
    "# ^Avec animations\n",
    "import numpy as np\n",
    "import matplotlib.pyplot as plt\n",
    "from matplotlib import animation\n",
    "from pylab import*\n",
    "from random import randint"
   ]
  },
  {
   "cell_type": "markdown",
   "metadata": {},
   "source": [
    "Nous allons créer une fonction Affiche_rectangle qui permettra de dessiner les tables de travail sur les \n",
    "\n",
    "matrices."
   ]
  },
  {
   "cell_type": "markdown",
   "metadata": {},
   "source": [
    "Nous crééons la fonction c_liste(debut, nbtables, largeur) qui génère la liste des couples d'entiers,\n",
    "\n",
    "représentant le coin gauche des tables de travail."
   ]
  },
  {
   "cell_type": "code",
   "execution_count": 29,
   "metadata": {},
   "outputs": [],
   "source": [
    "# debut : coordonnées sous la forme d'un tuple du coin gauche de la table.\n",
    "# nbtables : nombre de tables de même largeur sur une colonne.\n",
    "# largeur : nombre de lignes occupées par la table de travail.\n",
    "\n",
    "def c_liste(debut,nbtables,largeur):\n",
    "    ''' tuple * int * int -> LISTE[TUPLE]'''\n",
    "    x = debut[0]\n",
    "    y = debut[1]\n",
    "    L=[]\n",
    "    L =  [(i,y,largeur) for i in range(x,x+ nbtables*(largeur+1) ,largeur+1)]\n",
    "    return L"
   ]
  },
  {
   "cell_type": "code",
   "execution_count": 30,
   "metadata": {},
   "outputs": [
    {
     "name": "stdout",
     "output_type": "stream",
     "text": [
      "[(1, 1, 2), (4, 1, 2)]\n",
      "[(10, 1, 2), (13, 1, 2), (16, 1, 2), (19, 1, 2), (22, 1, 2), (25, 1, 2), (28, 1, 2), (31, 1, 2), (34, 1, 2)]\n",
      "[(14, 19, 2), (17, 19, 2), (20, 19, 2), (23, 19, 2), (26, 19, 2), (29, 19, 2)]\n"
     ]
    }
   ],
   "source": [
    "# Test de la fonction c_liste()\n",
    "\n",
    "print(   c_liste( (1,1),2,2 )  )\n",
    "print(   c_liste( (10,1) , 9,2) )\n",
    "print(   c_liste( (14,19),6,2 )      )"
   ]
  },
  {
   "cell_type": "code",
   "execution_count": 31,
   "metadata": {},
   "outputs": [],
   "source": [
    "# 'ranger()'' prend en paramètre une liste constitué de l'entier 'nbtables', suivi d'un nombre quelconque de \n",
    "# 3_uplet (debut,nbtables,largeur).\n",
    "\n",
    "def ranger(LISTE):\n",
    "    '''LISTE[int * TUPLE] -> DIC[ int:  LISTE[TUPLE]  ]\n",
    "        Retourne le dictionnaire qui associe 'nbtables' à liste composée de tous les couples 'debut', \n",
    "        générées à partir de 3_uplets'''\n",
    "    D = {}\n",
    "    for valeur in LISTE:\n",
    "        if type(valeur)== int: \n",
    "            L= []\n",
    "            cle = valeur\n",
    "            D[cle] = L\n",
    "        else:\n",
    "            L+= c_liste(valeur[0],valeur[1], valeur[2])\n",
    "    return D"
   ]
  },
  {
   "cell_type": "code",
   "execution_count": 32,
   "metadata": {},
   "outputs": [
    {
     "data": {
      "text/plain": [
       "{10: [(1, 1, 2),\n",
       "  (4, 1, 2),\n",
       "  (10, 1, 2),\n",
       "  (13, 1, 2),\n",
       "  (16, 1, 2),\n",
       "  (19, 1, 2),\n",
       "  (22, 1, 2),\n",
       "  (25, 1, 2),\n",
       "  (28, 1, 2),\n",
       "  (31, 1, 2),\n",
       "  (34, 1, 2),\n",
       "  (14, 19, 2),\n",
       "  (17, 19, 2),\n",
       "  (20, 19, 2),\n",
       "  (23, 19, 2),\n",
       "  (26, 19, 2),\n",
       "  (29, 19, 2)],\n",
       " 6: [(12, 12, 2), (20, 12, 2), (1, 12, 2)]}"
      ]
     },
     "execution_count": 32,
     "metadata": {},
     "output_type": "execute_result"
    }
   ],
   "source": [
    "# test de la fonction ranger()\n",
    "ranger([ 10, [(1,1),2,2] , [(10,1),9,2] , [(14,19),6,2],6, [(12,12),1,2], [(20,12),1,2] , [(1,12),1,2] ])\n",
    "# Cela représente tous les 'debut', des tables entrées en paramètres"
   ]
  },
  {
   "cell_type": "code",
   "execution_count": 33,
   "metadata": {},
   "outputs": [],
   "source": [
    "# M[:,y] accès pour la y+1 ème colonne.\n",
    "# M[x,:] accès pour la x+1 ème ligne.\n",
    "# c3 : signifie place libre\n",
    "\n",
    "# initialisation d'une liste qu'avec des -1\n",
    "L = [ [  -1 for _ in range(21) ] ] * 36\n",
    "# conversion vers le type array\n",
    "M = np.asarray(L)"
   ]
  },
  {
   "cell_type": "code",
   "execution_count": 34,
   "metadata": {},
   "outputs": [],
   "source": [
    "\n",
    "def Affiche_rectangle(X,c,n,M):\n",
    "    ''' (int*int) * str * int -> None\n",
    "    X : coin gauche de la table de coordonnées (x,y)\n",
    "    c : caractère à afficher dans le rectangle\n",
    "    n : le nombre de caractères du rectangle (pair)\n",
    "    l : largeur de la table\n",
    "    L : longueur de la table\n",
    "    '''\n",
    "    \n",
    "    L = int(n/2)\n",
    "    \n",
    "    x = X[0]\n",
    "    y = X[1]\n",
    "    l = X[2]\n",
    "    \n",
    "    M[x:x+l , y:y+L] = c\n",
    "    return M"
   ]
  },
  {
   "cell_type": "code",
   "execution_count": 35,
   "metadata": {},
   "outputs": [
    {
     "name": "stdout",
     "output_type": "stream",
     "text": [
      "[[-1  0  0  0  0  0 -1 -1 -1 -1 -1 -1 -1 -1 -1 -1 -1 -1 -1 -1 -1]\n",
      " [-1  0  0  0  0  0 -1 -1 -1 -1 -1 -1 -1 -1 -1 -1 -1 -1 -1 -1 -1]\n",
      " [-1 -1 -1 -1 -1 -1 -1 -1 -1 -1 -1 -1 -1 -1 -1 -1 -1 -1 -1 -1 -1]\n",
      " [-1 -1 -1 -1 -1 -1 -1 -1 -1 -1 -1 -1 -1 -1 -1 -1 -1 -1 -1 -1 -1]\n",
      " [-1 -1 -1 -1 -1 -1 -1 -1 -1 -1 -1 -1 -1 -1 -1 -1 -1 -1 -1 -1 -1]\n",
      " [-1 -1 -1 -1 -1 -1 -1 -1 -1 -1 -1 -1 -1 -1 -1 -1 -1 -1 -1 -1 -1]\n",
      " [-1 -1 -1 -1 -1 -1 -1 -1 -1 -1 -1 -1 -1 -1 -1 -1 -1 -1 -1 -1 -1]\n",
      " [-1 -1 -1 -1 -1 -1 -1 -1 -1 -1 -1 -1 -1 -1 -1 -1 -1 -1 -1 -1 -1]\n",
      " [-1 -1 -1 -1 -1 -1 -1 -1 -1 -1 -1 -1 -1 -1 -1 -1 -1 -1 -1 -1 -1]\n",
      " [-1 -1 -1 -1 -1 -1 -1 -1 -1 -1 -1 -1 -1 -1 -1 -1 -1 -1 -1 -1 -1]\n",
      " [-1 -1 -1 -1 -1 -1 -1 -1 -1 -1 -1 -1 -1 -1 -1 -1 -1 -1 -1 -1 -1]\n",
      " [-1 -1 -1 -1 -1 -1 -1 -1 -1 -1 -1 -1 -1 -1 -1 -1 -1 -1 -1 -1 -1]\n",
      " [-1 -1 -1 -1 -1 -1 -1 -1 -1 -1 -1 -1 -1 -1 -1 -1 -1 -1 -1 -1 -1]\n",
      " [-1 -1 -1 -1 -1 -1 -1 -1 -1 -1 -1 -1 -1 -1 -1 -1 -1 -1 -1 -1 -1]\n",
      " [-1 -1 -1 -1 -1 -1 -1 -1 -1 -1 -1 -1 -1 -1 -1 -1 -1 -1 -1 -1 -1]\n",
      " [-1 -1 -1 -1 -1 -1 -1 -1 -1 -1 -1 -1 -1 -1 -1 -1 -1 -1 -1 -1 -1]\n",
      " [-1 -1 -1 -1 -1 -1 -1 -1 -1 -1 -1 -1 -1 -1 -1 -1 -1 -1 -1 -1 -1]\n",
      " [-1 -1 -1 -1 -1 -1 -1 -1 -1 -1 -1 -1 -1 -1 -1 -1 -1 -1 -1 -1 -1]\n",
      " [-1 -1 -1 -1 -1 -1 -1 -1 -1 -1 -1 -1 -1 -1 -1 -1 -1 -1 -1 -1 -1]\n",
      " [-1 -1 -1 -1 -1 -1 -1 -1 -1 -1 -1 -1 -1 -1 -1 -1 -1 -1 -1 -1 -1]\n",
      " [-1 -1 -1 -1 -1 -1 -1 -1 -1 -1 -1 -1 -1 -1 -1 -1 -1 -1 -1 -1 -1]\n",
      " [-1 -1 -1 -1 -1 -1 -1 -1 -1 -1 -1 -1 -1 -1 -1 -1 -1 -1 -1 -1 -1]\n",
      " [-1 -1 -1 -1 -1 -1 -1 -1 -1 -1 -1 -1 -1 -1 -1 -1 -1 -1 -1 -1 -1]\n",
      " [-1 -1 -1 -1 -1 -1 -1 -1 -1 -1 -1 -1 -1 -1 -1 -1 -1 -1 -1 -1 -1]\n",
      " [-1 -1 -1 -1 -1 -1 -1 -1 -1 -1 -1 -1 -1 -1 -1 -1 -1 -1 -1 -1 -1]\n",
      " [-1 -1 -1 -1 -1 -1 -1 -1 -1 -1 -1 -1 -1 -1 -1 -1 -1 -1 -1 -1 -1]\n",
      " [-1 -1 -1 -1 -1 -1 -1 -1 -1 -1 -1 -1 -1 -1 -1 -1 -1 -1 -1 -1 -1]\n",
      " [-1 -1 -1 -1 -1 -1 -1 -1 -1 -1 -1 -1 -1 -1 -1 -1 -1 -1 -1 -1 -1]\n",
      " [-1 -1 -1 -1 -1 -1 -1 -1 -1 -1 -1 -1 -1 -1 -1 -1 -1 -1 -1 -1 -1]\n",
      " [-1 -1 -1 -1 -1 -1 -1 -1 -1 -1 -1 -1 -1 -1 -1 -1 -1 -1 -1 -1 -1]\n",
      " [-1 -1 -1 -1 -1 -1 -1 -1 -1 -1 -1 -1 -1 -1 -1 -1 -1 -1 -1 -1 -1]\n",
      " [-1 -1 -1 -1 -1 -1 -1 -1 -1 -1 -1 -1 -1 -1 -1 -1 -1 -1 -1 -1 -1]\n",
      " [-1 -1 -1 -1 -1 -1 -1 -1 -1 -1 -1 -1 -1 -1 -1 -1 -1 -1 -1 -1 -1]\n",
      " [-1 -1 -1 -1 -1 -1 -1 -1 -1 -1 -1 -1 -1 -1 -1 -1 -1 -1 -1 -1 -1]\n",
      " [-1 -1 -1 -1 -1 -1 -1 -1 -1 -1 -1 -1 -1 -1 -1 -1 -1 -1 -1 -1 -1]\n",
      " [-1 -1 -1 -1 -1 -1 -1 -1 -1 -1 -1 -1 -1 -1 -1 -1 -1 -1 -1 -1 -1]]\n"
     ]
    }
   ],
   "source": [
    "# Voici un premier test, où on vient de dessiner une table de coordonnées (0,1), de largeur 2 et de 10 places avec '0'\n",
    "# comme caractère de remplissage.\n",
    "print ( Affiche_rectangle((0,1,2),0,10,M) )"
   ]
  },
  {
   "cell_type": "code",
   "execution_count": 36,
   "metadata": {},
   "outputs": [
    {
     "name": "stdout",
     "output_type": "stream",
     "text": [
      "{10: [(1, 1, 2), (4, 1, 2), (7, 1, 2), (13, 1, 2), (16, 1, 2), (19, 1, 2), (22, 1, 2), (25, 1, 2), (28, 1, 2), (31, 1, 2), (34, 1, 2), (37, 1, 2), (14, 11, 2), (18, 11, 2), (22, 11, 2), (26, 11, 2), (30, 11, 2), (35, 11, 2)], 6: [(1, 7, 2), (10, 1, 2), (18, 7, 2), (22, 7, 2), (-5, 7, 2)]}\n"
     ]
    }
   ],
   "source": [
    "# Nous crééons le dictionnaire D_table qui nous donnera toutes les informations nécessaires pour dessiner la\n",
    "# géographie de la bibliothèque sous la forme d'une matrice.\n",
    "# les sous_listes sont de la forme : [X,nbTables,largeur]\n",
    "\n",
    "L_table = [ 10, [(1,1),3,2] , [(13,1) , 9 ,2] , [(14,11),1,2] , [(18,11),1,2] , [(22,11),1,2] , [(26,11),1,2] ,\n",
    "           [(30,11),1,2] , [(35,11),1,2] , \n",
    "           \n",
    "           6, [(1,7),1,2] , [(10,1),1,2] ,  [(18,7),1,2] , [(22,7),1,2] , [(-5,7),1,2] ]\n",
    "\n",
    "D_table = ranger(L_table)\n",
    "print(D_table)"
   ]
  },
  {
   "cell_type": "code",
   "execution_count": 37,
   "metadata": {},
   "outputs": [],
   "source": [
    "def initM(nbcol,nblig,D_table):\n",
    "    #choix des caractères\n",
    "    c1 = 7\n",
    "    c2 = 1\n",
    "    c3 = 0\n",
    "    # initialisation d'une liste qu'avec des 'c1'\n",
    "    L = [ [  c1 for _ in range(nbcol) ] ] * nblig\n",
    "    # conversion vers le type array\n",
    "    M = np.asarray(L)\n",
    "    \n",
    "    ''' int * int -> matrix\n",
    "    retourne la matrice représentant la géographie de la bibliothèque'''\n",
    "    \n",
    "    for key in D_table:\n",
    "        for X in D_table[key]:\n",
    "            M = Affiche_rectangle(X,c3,key,M)\n",
    "            \n",
    "    return M"
   ]
  },
  {
   "cell_type": "code",
   "execution_count": 38,
   "metadata": {},
   "outputs": [
    {
     "name": "stdout",
     "output_type": "stream",
     "text": [
      "[[7 7 7 7 7 7 7 7 7 7 7 7 7 7 7 7 7 7 7 7 7]\n",
      " [7 0 0 0 0 0 7 0 0 0 7 7 7 7 7 7 7 7 7 7 7]\n",
      " [7 0 0 0 0 0 7 0 0 0 7 7 7 7 7 7 7 7 7 7 7]\n",
      " [7 7 7 7 7 7 7 7 7 7 7 7 7 7 7 7 7 7 7 7 7]\n",
      " [7 0 0 0 0 0 7 7 7 7 7 7 7 7 7 7 7 7 7 7 7]\n",
      " [7 0 0 0 0 0 7 7 7 7 7 7 7 7 7 7 7 7 7 7 7]\n",
      " [7 7 7 7 7 7 7 7 7 7 7 7 7 7 7 7 7 7 7 7 7]\n",
      " [7 0 0 0 0 0 7 7 7 7 7 7 7 7 7 7 7 7 7 7 7]\n",
      " [7 0 0 0 0 0 7 7 7 7 7 7 7 7 7 7 7 7 7 7 7]\n",
      " [7 7 7 7 7 7 7 7 7 7 7 7 7 7 7 7 7 7 7 7 7]\n",
      " [7 0 0 0 7 7 7 7 7 7 7 7 7 7 7 7 7 7 7 7 7]\n",
      " [7 0 0 0 7 7 7 7 7 7 7 7 7 7 7 7 7 7 7 7 7]\n",
      " [7 7 7 7 7 7 7 7 7 7 7 7 7 7 7 7 7 7 7 7 7]\n",
      " [7 0 0 0 0 0 7 7 7 7 7 7 7 7 7 7 7 7 7 7 7]\n",
      " [7 0 0 0 0 0 7 7 7 7 7 0 0 0 0 0 7 7 7 7 7]\n",
      " [7 7 7 7 7 7 7 7 7 7 7 0 0 0 0 0 7 7 7 7 7]\n",
      " [7 0 0 0 0 0 7 7 7 7 7 7 7 7 7 7 7 7 7 7 7]\n",
      " [7 0 0 0 0 0 7 7 7 7 7 7 7 7 7 7 7 7 7 7 7]\n",
      " [7 7 7 7 7 7 7 0 0 0 7 0 0 0 0 0 7 7 7 7 7]\n",
      " [7 0 0 0 0 0 7 0 0 0 7 0 0 0 0 0 7 7 7 7 7]\n",
      " [7 0 0 0 0 0 7 7 7 7 7 7 7 7 7 7 7 7 7 7 7]\n",
      " [7 7 7 7 7 7 7 7 7 7 7 7 7 7 7 7 7 7 7 7 7]\n",
      " [7 0 0 0 0 0 7 0 0 0 7 0 0 0 0 0 7 7 7 7 7]\n",
      " [7 0 0 0 0 0 7 0 0 0 7 0 0 0 0 0 7 7 7 7 7]\n",
      " [7 7 7 7 7 7 7 7 7 7 7 7 7 7 7 7 7 7 7 7 7]\n",
      " [7 0 0 0 0 0 7 7 7 7 7 7 7 7 7 7 7 7 7 7 7]\n",
      " [7 0 0 0 0 0 7 7 7 7 7 0 0 0 0 0 7 7 7 7 7]\n",
      " [7 7 7 7 7 7 7 7 7 7 7 0 0 0 0 0 7 7 7 7 7]\n",
      " [7 0 0 0 0 0 7 7 7 7 7 7 7 7 7 7 7 7 7 7 7]\n",
      " [7 0 0 0 0 0 7 7 7 7 7 7 7 7 7 7 7 7 7 7 7]\n",
      " [7 7 7 7 7 7 7 7 7 7 7 0 0 0 0 0 7 7 7 7 7]\n",
      " [7 0 0 0 0 0 7 7 7 7 7 0 0 0 0 0 7 7 7 7 7]\n",
      " [7 0 0 0 0 0 7 7 7 7 7 7 7 7 7 7 7 7 7 7 7]\n",
      " [7 7 7 7 7 7 7 7 7 7 7 7 7 7 7 7 7 7 7 7 7]\n",
      " [7 0 0 0 0 0 7 7 7 7 7 7 7 7 7 7 7 7 7 7 7]\n",
      " [7 0 0 0 0 0 7 0 0 0 7 0 0 0 0 0 7 7 7 7 7]\n",
      " [7 7 7 7 7 7 7 0 0 0 7 0 0 0 0 0 7 7 7 7 7]\n",
      " [7 0 0 0 0 0 7 7 7 7 7 7 7 7 7 7 7 7 7 7 7]\n",
      " [7 0 0 0 0 0 7 7 7 7 7 7 7 7 7 7 7 7 7 7 7]\n",
      " [7 7 7 7 7 7 7 7 7 7 7 7 7 7 7 7 7 7 7 7 7]]\n"
     ]
    }
   ],
   "source": [
    "print(initM(21,40,D_table) )\n",
    "\n"
   ]
  },
  {
   "cell_type": "code",
   "execution_count": 39,
   "metadata": {},
   "outputs": [],
   "source": [
    "# table est représentée par des coordonnées (x,y) de la forme (posLigne, posColonne)\n",
    "# deplacement : est représenté par (a,b), respectivement , déplacement vertical et horizontal\n",
    "# Longueur et Largeur : les dimensions de la matrice\n",
    "\n",
    "D_table = {10: [(1, 1, 2), (4, 1, 2), (7, 1, 2), (13, 1, 2), (16, 1, 2), (19, 1, 2), (22, 1, 2), (25, 1, 2),\n",
    "                (28, 1, 2), (31, 1, 2), (34, 1, 2), (37, 1, 2), (14, 11, 2), (18, 11, 2), (22, 11, 2), (26, 11, 2),\n",
    "                (30, 11, 2), (35, 11, 2)], \n",
    "           6: [(1, 7, 2), (10, 1, 2), (18, 7, 2), (22, 7, 2), (-5, 7, 2)]}\n",
    "\n",
    "nbColonnes = 24\n",
    "nbLignes  = 40\n",
    "\n",
    "def deplace_table(table,D_table,deplacement,largeur):\n",
    "    '''LISTE * DICT * COUPLE -> DICT\n",
    "    retourne le dictionnaire modifié en ayant deplacé la 'table' en fonction du 'deplacement'.'''\n",
    "    \n",
    "    x = table[0]\n",
    "    y = table[1]\n",
    "    \n",
    "    Dx = deplacement[0]\n",
    "    Dy = deplacement[1]\n",
    "    \n",
    "    for liste in D_table.values():\n",
    "        for  icouple in range(len(liste)):\n",
    "            up = liste[icouple]\n",
    "            if up == (x,y,largeur):\n",
    "                 liste[icouple] = (  (up[0] + Dx) % nbLignes,  (up[1] + Dy) % nbColonnes ,largeur )\n",
    "    return D_table"
   ]
  },
  {
   "cell_type": "code",
   "execution_count": 40,
   "metadata": {},
   "outputs": [
    {
     "name": "stdout",
     "output_type": "stream",
     "text": [
      "[[7 7 7 7 7 7 7 7 7 7 7 7 7 7 7 7 7 7 7 7 7]\n",
      " [7 7 7 7 7 7 7 0 0 0 7 7 7 7 7 7 7 7 7 7 7]\n",
      " [7 0 0 0 0 0 7 0 0 0 7 7 7 7 7 7 7 7 7 7 7]\n",
      " [7 0 0 0 0 0 7 7 7 7 7 7 7 7 7 7 7 7 7 7 7]\n",
      " [7 0 0 0 0 0 7 7 7 7 7 7 7 7 7 7 7 7 7 7 7]\n",
      " [7 0 0 0 0 0 7 7 7 7 7 7 7 7 7 7 7 7 7 7 7]\n",
      " [7 7 7 7 7 7 7 7 7 7 7 7 7 7 7 7 7 7 7 7 7]\n",
      " [7 0 0 0 0 0 7 7 7 7 7 7 7 7 7 7 7 7 7 7 7]\n",
      " [7 0 0 0 0 0 7 7 7 7 7 7 7 7 7 7 7 7 7 7 7]\n",
      " [7 7 7 7 7 7 7 7 7 7 7 7 7 7 7 7 7 7 7 7 7]\n",
      " [7 0 0 0 7 7 7 7 7 7 7 7 7 7 7 7 7 7 7 7 7]\n",
      " [7 0 0 0 7 7 7 7 7 7 7 7 7 7 7 7 7 7 7 7 7]\n",
      " [7 7 7 7 7 7 7 7 7 7 7 7 7 7 7 7 7 7 7 7 7]\n",
      " [7 0 0 0 0 0 7 7 7 7 7 7 7 7 7 7 7 7 7 7 7]\n",
      " [7 0 0 0 0 0 7 7 7 7 7 0 0 0 0 0 7 7 7 7 7]\n",
      " [7 7 7 7 7 7 7 7 7 7 7 0 0 0 0 0 7 7 7 7 7]\n",
      " [7 0 0 0 0 0 7 7 7 7 7 7 7 7 7 7 7 7 7 7 7]\n",
      " [7 0 0 0 0 0 7 7 7 7 7 7 7 7 7 7 7 7 7 7 7]\n",
      " [7 7 7 7 7 7 7 0 0 0 7 0 0 0 0 0 7 7 7 7 7]\n",
      " [7 0 0 0 0 0 7 0 0 0 7 0 0 0 0 0 7 7 7 7 7]\n",
      " [7 0 0 0 0 0 7 7 7 7 7 7 7 7 7 7 7 7 7 7 7]\n",
      " [7 7 7 7 7 7 7 7 7 7 7 7 7 7 7 7 7 7 7 7 7]\n",
      " [7 0 0 0 0 0 7 0 0 0 7 0 0 0 0 0 7 7 7 7 7]\n",
      " [7 0 0 0 0 0 7 0 0 0 7 0 0 0 0 0 7 7 7 7 7]\n",
      " [7 7 7 7 7 7 7 7 7 7 7 7 7 7 7 7 7 7 7 7 7]\n",
      " [7 0 0 0 0 0 7 7 7 7 7 7 7 7 7 7 7 7 7 7 7]\n",
      " [7 0 0 0 0 0 7 7 7 7 7 0 0 0 0 0 7 7 7 7 7]\n",
      " [7 7 7 7 7 7 7 7 7 7 7 0 0 0 0 0 7 7 7 7 7]\n",
      " [7 0 0 0 0 0 7 7 7 7 7 7 7 7 7 7 7 7 7 7 7]\n",
      " [7 0 0 0 0 0 7 7 7 7 7 7 7 7 7 7 7 7 7 7 7]\n",
      " [7 7 7 7 7 7 7 7 7 7 7 0 0 0 0 0 7 7 7 7 7]\n",
      " [7 0 0 0 0 0 7 7 7 7 7 0 0 0 0 0 7 7 7 7 7]\n",
      " [7 0 0 0 0 0 7 7 7 7 7 7 7 7 7 7 7 7 7 7 7]\n",
      " [7 7 7 7 7 7 7 7 7 7 7 7 7 7 7 7 7 7 7 7 7]\n",
      " [7 0 0 0 0 0 7 7 7 7 7 7 7 7 7 7 7 7 7 7 7]\n",
      " [7 0 0 0 0 0 7 0 0 0 7 0 0 0 0 0 7 7 7 7 7]\n",
      " [7 7 7 7 7 7 7 0 0 0 7 0 0 0 0 0 7 7 7 7 7]\n",
      " [7 0 0 0 0 0 7 7 7 7 7 7 7 7 7 7 7 7 7 7 7]\n",
      " [7 0 0 0 0 0 7 7 7 7 7 7 7 7 7 7 7 7 7 7 7]\n",
      " [7 7 7 7 7 7 7 7 7 7 7 7 7 7 7 7 7 7 7 7 7]]\n"
     ]
    }
   ],
   "source": [
    "deplace_table(  (1 , 1) , D_table , ( 1, 0) , 2 )\n",
    "# On affiche notre nouvelle bibliothèque après modification (la table en haut à gauche a été descendue d'un rang)\n",
    "print(initM(21,40,D_table))"
   ]
  },
  {
   "cell_type": "code",
   "execution_count": 41,
   "metadata": {},
   "outputs": [],
   "source": [
    "D_table = {10: [(1, 1, 2), (4, 1, 2), (7, 1, 2), (13, 1, 2), (16, 1, 2), (19, 1, 2), (22, 1, 2), (25, 1, 2),\n",
    "                (28, 1, 2), (31, 1, 2), (34, 1, 2), (37, 1, 2), (14, 11, 2), (18, 11, 2), (22, 11, 2), (26, 11, 2),\n",
    "                (30, 11, 2), (35, 11, 2)], \n",
    "           6: [(1, 7, 2), (10, 1, 2), (18, 7, 2), (22, 7, 2), (-5, 7, 2)]}\n",
    "\n",
    "nbColonnes = 21\n",
    "nbLignes  = 40\n",
    "\n",
    "# La rangee est représentée par le coordonné PosColonne.\n",
    "# deplacement : est représenté par (a,b), respectivement , déplacement vertical et horizontal\n",
    "\n",
    "def deplace_range(Icolonne,deplacement,D_table):\n",
    "    '''int * COUPLE[int] * DICT ->  DICT\n",
    "    retourne le dictionnaire modifié en ayant déplacer la rangée 'Icolonne' de 'deplacement' '''\n",
    "    \n",
    "    Dx = deplacement[0]\n",
    "    Dy = deplacement[1]\n",
    "    \n",
    "    for liste in D_table.values():\n",
    "        for  icouple in range(len(liste)):\n",
    "            up = liste[icouple]\n",
    "            if up[1] == Icolonne:\n",
    "                 liste[icouple] = (  (up[0] + Dx) % nbLignes,  (up[1] + Dy) % nbColonnes ,up[2])"
   ]
  },
  {
   "cell_type": "code",
   "execution_count": 42,
   "metadata": {},
   "outputs": [
    {
     "name": "stdout",
     "output_type": "stream",
     "text": [
      "[[7 7 7 7 7 7 7 7 7 7 7 7 7 7 7 7 7 7 7 7 7]\n",
      " [7 0 0 0 0 0 7 7 7 0 0 0 7 7 7 7 7 7 7 7 7]\n",
      " [7 0 0 0 0 0 7 7 7 0 0 0 7 7 7 7 7 7 7 7 7]\n",
      " [7 7 7 7 7 7 7 7 7 7 7 7 7 7 7 7 7 7 7 7 7]\n",
      " [7 0 0 0 0 0 7 7 7 7 7 7 7 7 7 7 7 7 7 7 7]\n",
      " [7 0 0 0 0 0 7 7 7 7 7 7 7 7 7 7 7 7 7 7 7]\n",
      " [7 7 7 7 7 7 7 7 7 7 7 7 7 7 7 7 7 7 7 7 7]\n",
      " [7 0 0 0 0 0 7 7 7 7 7 7 7 7 7 7 7 7 7 7 7]\n",
      " [7 0 0 0 0 0 7 7 7 7 7 7 7 7 7 7 7 7 7 7 7]\n",
      " [7 7 7 7 7 7 7 7 7 7 7 7 7 7 7 7 7 7 7 7 7]\n",
      " [7 0 0 0 7 7 7 7 7 7 7 7 7 7 7 7 7 7 7 7 7]\n",
      " [7 0 0 0 7 7 7 7 7 7 7 7 7 7 7 7 7 7 7 7 7]\n",
      " [7 7 7 7 7 7 7 7 7 7 7 7 7 7 7 7 7 7 7 7 7]\n",
      " [7 0 0 0 0 0 7 7 7 7 7 7 7 7 7 7 7 7 7 7 7]\n",
      " [7 0 0 0 0 0 7 7 7 7 7 7 7 7 7 0 0 0 0 0 7]\n",
      " [7 7 7 7 7 7 7 7 7 7 7 7 7 7 7 0 0 0 0 0 7]\n",
      " [7 0 0 0 0 0 7 7 7 7 7 7 7 7 7 7 7 7 7 7 7]\n",
      " [7 0 0 0 0 0 7 7 7 7 7 7 7 7 7 7 7 7 7 7 7]\n",
      " [7 7 7 7 7 7 7 7 7 0 0 0 7 7 7 0 0 0 0 0 7]\n",
      " [7 0 0 0 0 0 7 7 7 0 0 0 7 7 7 0 0 0 0 0 7]\n",
      " [7 0 0 0 0 0 7 7 7 7 7 7 7 7 7 7 7 7 7 7 7]\n",
      " [7 7 7 7 7 7 7 7 7 7 7 7 7 7 7 7 7 7 7 7 7]\n",
      " [7 0 0 0 0 0 7 7 7 0 0 0 7 7 7 0 0 0 0 0 7]\n",
      " [7 0 0 0 0 0 7 7 7 0 0 0 7 7 7 0 0 0 0 0 7]\n",
      " [7 7 7 7 7 7 7 7 7 7 7 7 7 7 7 7 7 7 7 7 7]\n",
      " [7 0 0 0 0 0 7 7 7 7 7 7 7 7 7 7 7 7 7 7 7]\n",
      " [7 0 0 0 0 0 7 7 7 7 7 7 7 7 7 0 0 0 0 0 7]\n",
      " [7 7 7 7 7 7 7 7 7 7 7 7 7 7 7 0 0 0 0 0 7]\n",
      " [7 0 0 0 0 0 7 7 7 7 7 7 7 7 7 7 7 7 7 7 7]\n",
      " [7 0 0 0 0 0 7 7 7 7 7 7 7 7 7 7 7 7 7 7 7]\n",
      " [7 7 7 7 7 7 7 7 7 7 7 7 7 7 7 0 0 0 0 0 7]\n",
      " [7 0 0 0 0 0 7 7 7 7 7 7 7 7 7 0 0 0 0 0 7]\n",
      " [7 0 0 0 0 0 7 7 7 7 7 7 7 7 7 7 7 7 7 7 7]\n",
      " [7 7 7 7 7 7 7 7 7 7 7 7 7 7 7 7 7 7 7 7 7]\n",
      " [7 0 0 0 0 0 7 7 7 7 7 7 7 7 7 7 7 7 7 7 7]\n",
      " [7 0 0 0 0 0 7 7 7 0 0 0 7 7 7 0 0 0 0 0 7]\n",
      " [7 7 7 7 7 7 7 7 7 0 0 0 7 7 7 0 0 0 0 0 7]\n",
      " [7 0 0 0 0 0 7 7 7 7 7 7 7 7 7 7 7 7 7 7 7]\n",
      " [7 0 0 0 0 0 7 7 7 7 7 7 7 7 7 7 7 7 7 7 7]\n",
      " [7 7 7 7 7 7 7 7 7 7 7 7 7 7 7 7 7 7 7 7 7]]\n"
     ]
    }
   ],
   "source": [
    "# On déplace de trois rangs vers la droite la troisième rangée.\n",
    "# On déplace de deux rangs vers la droite la deuxième rangée.\n",
    "deplace_range(11,(0,4),D_table)\n",
    "deplace_range(7,(0,2),D_table)\n",
    "print(initM(21,40,D_table) )"
   ]
  },
  {
   "cell_type": "code",
   "execution_count": 43,
   "metadata": {},
   "outputs": [
    {
     "name": "stdout",
     "output_type": "stream",
     "text": [
      "[[7 7 7 7 7 7 7 7 7 7 7 7 7 7 7 7 7 7 7 7 7]\n",
      " [7 0 0 0 0 0 7 7 7 0 0 0 7 7 7 7 7 7 7 7 7]\n",
      " [7 0 0 0 0 0 7 7 7 0 0 0 7 7 7 7 7 7 7 7 7]\n",
      " [7 7 7 7 7 7 7 7 7 7 7 7 7 7 7 7 7 7 7 7 7]\n",
      " [7 0 0 0 0 0 7 7 7 7 7 7 7 7 7 7 7 7 7 7 7]\n",
      " [7 0 0 0 0 0 7 7 7 7 7 7 7 7 7 7 7 7 7 7 7]\n",
      " [7 7 7 7 7 7 7 7 7 7 7 7 7 7 7 7 7 7 7 7 7]\n",
      " [7 0 0 0 0 0 7 7 7 7 7 7 7 7 7 7 7 7 7 7 7]\n",
      " [7 0 0 0 0 0 7 7 7 7 7 7 7 7 7 7 7 7 7 7 7]\n",
      " [7 7 7 7 7 7 7 7 7 7 7 7 7 7 7 7 7 7 7 7 7]\n",
      " [7 0 0 0 7 7 7 7 7 7 7 7 7 7 7 7 7 7 7 7 7]\n",
      " [7 0 0 0 7 7 7 7 7 7 7 7 7 7 7 7 7 7 7 7 7]\n",
      " [7 7 7 7 7 7 7 7 7 7 7 7 7 7 7 7 7 7 7 7 7]\n",
      " [7 0 0 0 0 0 7 7 7 7 7 7 7 7 7 7 7 7 7 7 7]\n",
      " [7 0 0 0 0 0 7 7 7 7 7 7 7 7 7 0 0 0 0 0 7]\n",
      " [7 7 7 7 7 7 7 7 7 7 7 7 7 7 7 0 0 0 0 0 7]\n",
      " [7 0 0 0 0 0 7 7 7 7 7 7 7 7 7 7 7 7 7 7 7]\n",
      " [7 0 0 0 0 0 7 7 7 7 7 7 7 7 7 7 7 7 7 7 7]\n",
      " [7 7 7 7 7 7 7 7 7 0 0 0 7 7 7 0 0 0 0 0 7]\n",
      " [7 0 0 0 0 0 7 7 7 0 0 0 7 7 7 0 0 0 0 0 7]\n",
      " [7 0 0 0 0 0 7 7 7 7 7 7 7 7 7 7 7 7 7 7 7]\n",
      " [7 7 7 7 7 7 7 7 7 7 7 7 7 7 7 7 7 7 7 7 7]\n",
      " [7 0 0 0 0 0 7 7 7 0 0 0 7 7 7 0 0 0 0 0 7]\n",
      " [7 0 0 0 0 0 7 7 7 0 0 0 7 7 7 0 0 0 0 0 7]\n",
      " [7 7 7 7 7 7 7 7 7 7 7 7 7 7 7 7 7 7 7 7 7]\n",
      " [7 0 0 0 0 0 7 7 7 7 7 7 7 7 7 7 7 7 7 7 7]\n",
      " [7 0 0 0 0 0 7 7 7 7 7 7 7 7 7 0 0 0 0 0 7]\n",
      " [7 7 7 7 7 7 7 7 7 7 7 7 7 7 7 0 0 0 0 0 7]\n",
      " [7 0 0 0 0 0 7 7 7 7 7 7 7 7 7 7 7 7 7 7 7]\n",
      " [7 0 0 0 0 0 7 7 7 7 7 7 7 7 7 7 7 7 7 7 7]\n",
      " [7 7 7 7 7 7 7 7 7 7 7 7 7 7 7 0 0 0 0 0 7]\n",
      " [7 0 0 0 0 0 7 7 7 7 7 7 7 7 7 0 0 0 0 0 7]\n",
      " [7 0 0 0 0 0 7 7 7 7 7 7 7 7 7 7 7 7 7 7 7]\n",
      " [7 7 7 7 7 7 7 7 7 7 7 7 7 7 7 7 7 7 7 7 7]\n",
      " [7 0 0 0 0 0 7 7 7 7 7 7 7 7 7 7 7 7 7 7 7]\n",
      " [7 0 0 0 0 0 7 7 7 0 0 0 7 7 7 0 0 0 0 0 7]\n",
      " [7 7 7 7 7 7 7 7 7 0 0 0 7 7 7 0 0 0 0 0 7]\n",
      " [7 0 0 0 0 0 7 7 7 7 7 7 7 7 7 7 7 7 7 7 7]\n",
      " [7 0 0 0 0 0 7 7 7 7 7 7 7 7 7 7 7 7 7 7 7]\n",
      " [7 7 7 7 7 7 7 7 7 7 7 7 7 7 7 7 7 7 7 7 7]]\n"
     ]
    }
   ],
   "source": [
    "# On va faire une copie de D_table : Dic_plan.\n",
    "# Dic_plan sera notre bibliothèque initiale.\n",
    "\n",
    "import copy\n",
    "Dic_plan = copy.deepcopy(D_table)\n",
    "print(initM(21,40,Dic_plan))"
   ]
  },
  {
   "cell_type": "code",
   "execution_count": 44,
   "metadata": {},
   "outputs": [],
   "source": [
    "# écrivons une fonction qui calcule le nombre de places d'une bibliothèque\n",
    "\n",
    "def Nbplaces(D):\n",
    "    '''DIC -> int\n",
    "    retourne le nombre de places d'une bibliothèque'''\n",
    "    \n",
    "    NbPlaces = 0\n",
    "    \n",
    "    for cle in D:\n",
    "        NbPlaces += len(D[cle])*cle\n",
    "    return NbPlaces"
   ]
  },
  {
   "cell_type": "code",
   "execution_count": 45,
   "metadata": {},
   "outputs": [
    {
     "data": {
      "text/plain": [
       "210"
      ]
     },
     "execution_count": 45,
     "metadata": {},
     "output_type": "execute_result"
    }
   ],
   "source": [
    "# Dans notre bibliothèque il y a :\n",
    "Nbplaces(Dic_plan)"
   ]
  },
  {
   "cell_type": "code",
   "execution_count": 46,
   "metadata": {},
   "outputs": [],
   "source": [
    "# écrivons une fonction qui calcule les coordonnées de toutes les places de la bibliothèque.\n",
    "\n",
    "# (i,j) : place en haut à gauche d'une table\n",
    "# L : longueur de la table\n",
    "# l : largeur de la table\n",
    "\n",
    "def Pos_place(D):\n",
    "    '''Dic -> LISTE\n",
    "    retourne une liste de positions (x,y)'''\n",
    "    liste=[]\n",
    "    for cle in D:\n",
    "        for up in D[cle]:\n",
    "            i,j,L,l = up[0],up[1],cle//2,up[2]\n",
    "            for x in range(i,i+l):\n",
    "                for y in range(j,j+L):\n",
    "                    liste.append((x,y))\n",
    "                \n",
    "            \n",
    "    return liste"
   ]
  },
  {
   "cell_type": "code",
   "execution_count": 47,
   "metadata": {},
   "outputs": [
    {
     "name": "stdout",
     "output_type": "stream",
     "text": [
      "[(1, 1), (1, 2), (1, 3), (1, 4), (1, 5), (2, 1), (2, 2), (2, 3), (2, 4), (2, 5), (4, 1), (4, 2), (4, 3), (4, 4), (4, 5), (5, 1), (5, 2), (5, 3), (5, 4), (5, 5), (7, 1), (7, 2), (7, 3), (7, 4), (7, 5), (8, 1), (8, 2), (8, 3), (8, 4), (8, 5), (13, 1), (13, 2), (13, 3), (13, 4), (13, 5), (14, 1), (14, 2), (14, 3), (14, 4), (14, 5), (16, 1), (16, 2), (16, 3), (16, 4), (16, 5), (17, 1), (17, 2), (17, 3), (17, 4), (17, 5), (19, 1), (19, 2), (19, 3), (19, 4), (19, 5), (20, 1), (20, 2), (20, 3), (20, 4), (20, 5), (22, 1), (22, 2), (22, 3), (22, 4), (22, 5), (23, 1), (23, 2), (23, 3), (23, 4), (23, 5), (25, 1), (25, 2), (25, 3), (25, 4), (25, 5), (26, 1), (26, 2), (26, 3), (26, 4), (26, 5), (28, 1), (28, 2), (28, 3), (28, 4), (28, 5), (29, 1), (29, 2), (29, 3), (29, 4), (29, 5), (31, 1), (31, 2), (31, 3), (31, 4), (31, 5), (32, 1), (32, 2), (32, 3), (32, 4), (32, 5), (34, 1), (34, 2), (34, 3), (34, 4), (34, 5), (35, 1), (35, 2), (35, 3), (35, 4), (35, 5), (37, 1), (37, 2), (37, 3), (37, 4), (37, 5), (38, 1), (38, 2), (38, 3), (38, 4), (38, 5), (14, 15), (14, 16), (14, 17), (14, 18), (14, 19), (15, 15), (15, 16), (15, 17), (15, 18), (15, 19), (18, 15), (18, 16), (18, 17), (18, 18), (18, 19), (19, 15), (19, 16), (19, 17), (19, 18), (19, 19), (22, 15), (22, 16), (22, 17), (22, 18), (22, 19), (23, 15), (23, 16), (23, 17), (23, 18), (23, 19), (26, 15), (26, 16), (26, 17), (26, 18), (26, 19), (27, 15), (27, 16), (27, 17), (27, 18), (27, 19), (30, 15), (30, 16), (30, 17), (30, 18), (30, 19), (31, 15), (31, 16), (31, 17), (31, 18), (31, 19), (35, 15), (35, 16), (35, 17), (35, 18), (35, 19), (36, 15), (36, 16), (36, 17), (36, 18), (36, 19), (1, 9), (1, 10), (1, 11), (2, 9), (2, 10), (2, 11), (10, 1), (10, 2), (10, 3), (11, 1), (11, 2), (11, 3), (18, 9), (18, 10), (18, 11), (19, 9), (19, 10), (19, 11), (22, 9), (22, 10), (22, 11), (23, 9), (23, 10), (23, 11), (35, 9), (35, 10), (35, 11), (36, 9), (36, 10), (36, 11)] \n",
      "\n",
      "210 PLACES\n"
     ]
    }
   ],
   "source": [
    "# On affiche toutes les positions(x,y) de toutes les places de la bibliothèque.\n",
    "print(Pos_place(Dic_plan),\"\\n\")\n",
    "# On vériie le nombre de places : \n",
    "print(len(Pos_place(Dic_plan)),\"PLACES\")"
   ]
  },
  {
   "cell_type": "code",
   "execution_count": 48,
   "metadata": {},
   "outputs": [
    {
     "name": "stdout",
     "output_type": "stream",
     "text": [
      "0\n"
     ]
    }
   ],
   "source": [
    "# Nous allons générer soit '0' soit '1', cela nous sera utile pour remplir notre bibliothèque aléatoirement.\n",
    "\n",
    "def alea_entre2():\n",
    "    u = np.random.random()            # u est un nombre aléatoire entre 0 et 1\n",
    "    if u < 0.5:\n",
    "        return 1\n",
    "    else:\n",
    "        return 0\n",
    "print(alea_entre2())"
   ]
  },
  {
   "cell_type": "markdown",
   "metadata": {},
   "source": [
    " **Rappel : Comment manipuler les matrices efficacement ? **\n",
    "  \n",
    "  \n",
    "            len(M[:,0])  : # nombre de lignes.\n",
    "            len(M[0,:]) : # nombre de colonnes.\n",
    "\n",
    "            M[:,y] accès pour la y+1 ème colonne.\n",
    "            M[x,:] accès pour la x+1 ème ligne."
   ]
  },
  {
   "cell_type": "code",
   "execution_count": 119,
   "metadata": {},
   "outputs": [],
   "source": [
    "# Importons le module 'randint'\n",
    "from random import randint\n",
    "\n",
    "# Nous conservons notre dictionnaire initial\n",
    "Dic_plan = {10: [(1, 1, 2), (4, 1, 2), (7, 1, 2), (13, 1, 2), (16, 1, 2), (19, 1, 2), (22, 1, 2), (25, 1, 2), (28, 1, 2), \n",
    "            (31, 1, 2), (34, 1, 2), (37, 1, 2), (14, 15, 2), (18, 15, 2), (22, 15, 2), (26, 15, 2), (30, 15, 2), (35, 15, 2)], \n",
    "            6: [(1, 9, 2), (10, 1, 2), (18, 9, 2), (22, 9, 2), (35, 9, 2)]}\n",
    "\n",
    "# Nous avons une liste de position des places de la bibliothèque:\n",
    "L_Pos = Pos_place(Dic_plan)\n",
    "\n",
    "# Nous initialisons notre matrice avec Dic_plan.\n",
    "M = initM(21,40,Dic_plan)\n",
    "\n",
    "# Nous calculons le nombre de places de la bibliothèque.\n",
    "nbPlaces = Nbplaces(Dic_plan)\n",
    "nbPlaces = len(L_Pos)\n",
    "\n",
    "# Les dimensions de la matrice.\n",
    "nbColonnes = 21\n",
    "nbLignes  = 40\n",
    "\n",
    "def RemplissageMath(flux,M): #après mettre les 4 paramètres ( (matiere,etude) ,etat_social)\n",
    "    '''int * matrix -> matrix\n",
    "    retourne matrice après lui avoir appliquée le flux \"nb\" '''\n",
    "    \n",
    "    nbLig , nbCol = len(M[:,0]) , len(M[0,:])\n",
    "    iLig, iCol = 0,0\n",
    "    \n",
    "    if(flux == 0):\n",
    "        return M\n",
    "    elif(flux > 0):\n",
    "        for loop in range(flux):\n",
    "            while( (M[iLig,iCol]) !=0  ):\n",
    "                iLig = randint(0,nbLig - 1)\n",
    "                iCol = randint(0,nbCol - 1)\n",
    "            M[iLig,iCol] = 1\n",
    "        return M\n",
    "    else:\n",
    "        for loop in range(abs(flux)):\n",
    "            while( (M[iLig,iCol]) != 1  ):\n",
    "                iLig = randint(0,nbLig - 1)\n",
    "                iCol = randint(0,nbCol - 1)\n",
    "            M[iLig,iCol] = 0\n",
    "        return M"
   ]
  },
  {
   "cell_type": "code",
   "execution_count": 171,
   "metadata": {},
   "outputs": [],
   "source": [
    "def verif_placement(M):\n",
    "    Nbpersonnes = 0\n",
    "    for couple in L_Pos:\n",
    "        if(M[couple[0],couple[1]]):\n",
    "            Nbpersonnes+=1\n",
    "    return Nbpersonnes"
   ]
  },
  {
   "cell_type": "code",
   "execution_count": 172,
   "metadata": {},
   "outputs": [
    {
     "name": "stdout",
     "output_type": "stream",
     "text": [
      "[[7 7 7 7 7 7 7 7 7 7 7 7 7 7 7 7 7 7 7 7 7]\n",
      " [7 0 0 1 1 1 7 7 7 1 0 1 7 7 7 7 7 7 7 7 7]\n",
      " [7 0 1 1 0 0 7 7 7 1 0 1 7 7 7 7 7 7 7 7 7]\n",
      " [7 7 7 7 7 7 7 7 7 7 7 7 7 7 7 7 7 7 7 7 7]\n",
      " [7 0 0 1 0 0 7 7 7 7 7 7 7 7 7 7 7 7 7 7 7]\n",
      " [7 0 1 1 0 1 7 7 7 7 7 7 7 7 7 7 7 7 7 7 7]\n",
      " [7 7 7 7 7 7 7 7 7 7 7 7 7 7 7 7 7 7 7 7 7]\n",
      " [7 0 0 1 0 0 7 7 7 7 7 7 7 7 7 7 7 7 7 7 7]\n",
      " [7 0 0 0 1 1 7 7 7 7 7 7 7 7 7 7 7 7 7 7 7]\n",
      " [7 7 7 7 7 7 7 7 7 7 7 7 7 7 7 7 7 7 7 7 7]\n",
      " [7 1 1 0 7 7 7 7 7 7 7 7 7 7 7 7 7 7 7 7 7]\n",
      " [7 1 0 1 7 7 7 7 7 7 7 7 7 7 7 7 7 7 7 7 7]\n",
      " [7 7 7 7 7 7 7 7 7 7 7 7 7 7 7 7 7 7 7 7 7]\n",
      " [7 0 0 1 0 1 7 7 7 7 7 7 7 7 7 7 7 7 7 7 7]\n",
      " [7 1 0 0 0 1 7 7 7 7 7 7 7 7 7 0 0 1 0 0 7]\n",
      " [7 7 7 7 7 7 7 7 7 7 7 7 7 7 7 0 1 0 0 1 7]\n",
      " [7 1 0 0 1 0 7 7 7 7 7 7 7 7 7 7 7 7 7 7 7]\n",
      " [7 1 1 0 1 1 7 7 7 7 7 7 7 7 7 7 7 7 7 7 7]\n",
      " [7 7 7 7 7 7 7 7 7 0 1 1 7 7 7 1 1 0 0 1 7]\n",
      " [7 0 1 0 0 0 7 7 7 0 0 0 7 7 7 1 0 1 1 1 7]\n",
      " [7 1 1 1 1 1 7 7 7 7 7 7 7 7 7 7 7 7 7 7 7]\n",
      " [7 7 7 7 7 7 7 7 7 7 7 7 7 7 7 7 7 7 7 7 7]\n",
      " [7 1 0 0 1 0 7 7 7 1 0 1 7 7 7 0 0 1 1 1 7]\n",
      " [7 0 0 1 1 1 7 7 7 0 0 0 7 7 7 1 0 1 0 0 7]\n",
      " [7 7 7 7 7 7 7 7 7 7 7 7 7 7 7 7 7 7 7 7 7]\n",
      " [7 0 0 0 0 1 7 7 7 7 7 7 7 7 7 7 7 7 7 7 7]\n",
      " [7 1 1 1 0 1 7 7 7 7 7 7 7 7 7 1 0 1 1 0 7]\n",
      " [7 7 7 7 7 7 7 7 7 7 7 7 7 7 7 1 0 1 0 0 7]\n",
      " [7 1 0 1 1 0 7 7 7 7 7 7 7 7 7 7 7 7 7 7 7]\n",
      " [7 0 1 0 0 0 7 7 7 7 7 7 7 7 7 7 7 7 7 7 7]\n",
      " [7 7 7 7 7 7 7 7 7 7 7 7 7 7 7 0 1 1 1 1 7]\n",
      " [7 0 1 0 1 0 7 7 7 7 7 7 7 7 7 1 1 0 1 1 7]\n",
      " [7 0 1 0 0 0 7 7 7 7 7 7 7 7 7 7 7 7 7 7 7]\n",
      " [7 7 7 7 7 7 7 7 7 7 7 7 7 7 7 7 7 7 7 7 7]\n",
      " [7 0 0 1 1 0 7 7 7 7 7 7 7 7 7 7 7 7 7 7 7]\n",
      " [7 0 0 0 1 1 7 7 7 0 0 1 7 7 7 1 0 0 0 1 7]\n",
      " [7 7 7 7 7 7 7 7 7 1 1 1 7 7 7 0 1 0 0 1 7]\n",
      " [7 0 0 0 0 0 7 7 7 7 7 7 7 7 7 7 7 7 7 7 7]\n",
      " [7 1 0 0 1 1 7 7 7 7 7 7 7 7 7 7 7 7 7 7 7]\n",
      " [7 7 7 7 7 7 7 7 7 7 7 7 7 7 7 7 7 7 7 7 7]] \n",
      "\n"
     ]
    }
   ],
   "source": [
    "# Nous plaçons 100 personnes aléatoirement dans la bibliothèque.\n",
    "print(RemplissageMath(100,M),\"\\n\")\n",
    "\n",
    "# Nous vérifions que nous avons bien placé 100 personnes:\n",
    "verif_placement(M)\n",
    "\n",
    "# Nous vidons la bibliothèque.\n",
    "M = initM(21,40,Dic_plan)    "
   ]
  },
  {
   "cell_type": "markdown",
   "metadata": {},
   "source": [
    "### B.remplissage avec le temps"
   ]
  },
  {
   "cell_type": "markdown",
   "metadata": {},
   "source": [
    "Nous allons modéliser l'évolution du remplissage de la bibliothèque de manière géographique.\n",
    "\n",
    "Nous appliquerons la fonction 'Modif_matrice(nb,M)' qui obéira aux règles suivantes :\n",
    "    \n",
    "    - Si le flux est nul, la matrice ne sera pas modifiée.\n",
    "    - Si le flux est strictement négatif, les '1' rencontrés deviendront '0'.\n",
    "    - Si le flux est strictement positif, les '0' rencontrés deviendront '1'.\n",
    "    - Les allées et les murs de la bibliothèque, représentés par des '7' seront non-modifiables."
   ]
  },
  {
   "cell_type": "code",
   "execution_count": 173,
   "metadata": {},
   "outputs": [],
   "source": [
    " def RemplissageMath(flux,M): #après mettre les 4 paramètres ( (matiere,etude) ,etat_social)\n",
    "    '''int * matrix -> matrix\n",
    "    retourne matrice après lui avoir appliquée le flux \"nb\" '''\n",
    "    \n",
    "    nbLig , nbCol = len(M[:,0]) , len(M[0,:])\n",
    "    iLig, iCol = 0,0\n",
    "    \n",
    "    if(flux == 0):\n",
    "        return M\n",
    "    elif(flux > 0):\n",
    "        for loop in range(flux):\n",
    "            while( (M[iLig,iCol]) !=0  ):\n",
    "                iLig = randint(0,nbLig - 1)\n",
    "                iCol = randint(0,nbCol - 1)\n",
    "            M[iLig,iCol] = 1\n",
    "        return M\n",
    "    else:\n",
    "        for loop in range(abs(flux)):\n",
    "            while( (M[iLig,iCol]) != 1  ):\n",
    "                iLig = randint(0,nbLig - 1)\n",
    "                iCol = randint(0,nbCol - 1)\n",
    "            M[iLig,iCol] = 0\n",
    "        return M"
   ]
  },
  {
   "cell_type": "code",
   "execution_count": 174,
   "metadata": {},
   "outputs": [],
   "source": [
    "# Bibliothèquetemp3 permet en fonction des horaires d'ouverture de la bibliothèque\n",
    "# et de l'heure de la journée de faire des entrée/sortie multiple.\n",
    "\n",
    "#bt0: nombre initial de personne dans la bibliothèque. \n",
    "# bt : nombre de personne dans la bibliothèque à l'instant t\n",
    "#btmax: nombre de places de la bibliothèque.\n",
    "# aff : le taux d'affluence actuelle\n",
    "# emax : nombre place restant\n",
    "# nb : nombre d'entree/sortie\n",
    "# On fera un cycle de 24h\n",
    "\n",
    "# Exemple : horaire pour la BDL\n",
    "horaire = [(9,22) , (9,22) , (9,22) , (9,22) , (9,22) , (10,20),(0,0)]\n",
    "\n",
    "# On suppose que phase est valide.\n",
    "\n",
    "#découpage de la journée en plusieurs phases\n",
    "\n",
    "phase = {'bigenter': [(10,11) , (17,19)] ,  # (arrivée) , (fin des cours)\n",
    "         'bigexit' : [(12,13) , (21,22)]  , # (déjeuner), (retour chez soi)\n",
    "         'bigstay':  [(9,10) , (11,12) , (14,17)] , # (arrivée) , (cours) , (cours)\n",
    "         'unknown':  [(13,14) , (19,21)]  } \n",
    "\n",
    "#Notre nouvelle fonction bibliothèquetemp3 utilisera les matrices.\n",
    "\n",
    "def bibliothèquetemp3(bt0,btmax,jour,heure):\n",
    "                    #(int, int,str ,int)\n",
    "    ''' hyp : 0 <= bt <= btmax\n",
    "        Retourne l'état de la matrice à l'heure voulue à partir de l'ouverture de la bibliothèque'''\n",
    "    \n",
    "    # Nous initialisons notre matrice avec Dic_plan.\n",
    "    M = initM(21,40,Dic_plan)\n",
    "    \n",
    "    bt=bt0\n",
    "    aff=bt/btmax\n",
    "    \n",
    "    for t in range(heure+1):\n",
    "        if est_ouvert(t,jour,horaire):\n",
    "            Nom_phase = decoupage(phase,t)\n",
    "            emax = btmax-bt\n",
    "            nb=nb_flux(aff,Nom_phase,btmax)\n",
    "            nb=correction(nb,bt,emax)\n",
    "            bt+=nb\n",
    "            M=RemplissageMath(nb,M)\n",
    "        else:\n",
    "            bt=0\n",
    "            \n",
    "        aff=bt/btmax\n",
    "    \n",
    "    print(verif_placement(M),\"personnes dans la bibliothèque\",\"\\n\")\n",
    "    return M\n",
    "\n",
    "\n",
    "#annimation M en fonction du temps"
   ]
  },
  {
   "cell_type": "code",
   "execution_count": 175,
   "metadata": {},
   "outputs": [
    {
     "name": "stdout",
     "output_type": "stream",
     "text": [
      "94 personnes dans la bibliothèque \n",
      "\n",
      "[[7 7 7 7 7 7 7 7 7 7 7 7 7 7 7 7 7 7 7 7 7]\n",
      " [7 0 1 0 1 1 7 7 7 1 0 0 7 7 7 7 7 7 7 7 7]\n",
      " [7 1 0 0 0 0 7 7 7 0 0 1 7 7 7 7 7 7 7 7 7]\n",
      " [7 7 7 7 7 7 7 7 7 7 7 7 7 7 7 7 7 7 7 7 7]\n",
      " [7 0 0 0 1 0 7 7 7 7 7 7 7 7 7 7 7 7 7 7 7]\n",
      " [7 1 0 0 1 1 7 7 7 7 7 7 7 7 7 7 7 7 7 7 7]\n",
      " [7 7 7 7 7 7 7 7 7 7 7 7 7 7 7 7 7 7 7 7 7]\n",
      " [7 0 1 0 0 1 7 7 7 7 7 7 7 7 7 7 7 7 7 7 7]\n",
      " [7 0 0 0 1 1 7 7 7 7 7 7 7 7 7 7 7 7 7 7 7]\n",
      " [7 7 7 7 7 7 7 7 7 7 7 7 7 7 7 7 7 7 7 7 7]\n",
      " [7 1 0 1 7 7 7 7 7 7 7 7 7 7 7 7 7 7 7 7 7]\n",
      " [7 0 0 0 7 7 7 7 7 7 7 7 7 7 7 7 7 7 7 7 7]\n",
      " [7 7 7 7 7 7 7 7 7 7 7 7 7 7 7 7 7 7 7 7 7]\n",
      " [7 1 0 1 0 0 7 7 7 7 7 7 7 7 7 7 7 7 7 7 7]\n",
      " [7 1 1 0 1 1 7 7 7 7 7 7 7 7 7 1 0 1 1 0 7]\n",
      " [7 7 7 7 7 7 7 7 7 7 7 7 7 7 7 0 1 0 0 1 7]\n",
      " [7 1 0 0 1 0 7 7 7 7 7 7 7 7 7 7 7 7 7 7 7]\n",
      " [7 0 0 0 1 0 7 7 7 7 7 7 7 7 7 7 7 7 7 7 7]\n",
      " [7 7 7 7 7 7 7 7 7 0 1 1 7 7 7 1 1 1 1 0 7]\n",
      " [7 0 0 1 1 0 7 7 7 0 1 1 7 7 7 0 0 1 0 1 7]\n",
      " [7 1 1 0 1 0 7 7 7 7 7 7 7 7 7 7 7 7 7 7 7]\n",
      " [7 7 7 7 7 7 7 7 7 7 7 7 7 7 7 7 7 7 7 7 7]\n",
      " [7 0 1 0 0 0 7 7 7 0 1 0 7 7 7 0 0 1 0 1 7]\n",
      " [7 0 1 1 0 1 7 7 7 0 1 0 7 7 7 0 0 1 1 0 7]\n",
      " [7 7 7 7 7 7 7 7 7 7 7 7 7 7 7 7 7 7 7 7 7]\n",
      " [7 0 0 0 0 0 7 7 7 7 7 7 7 7 7 7 7 7 7 7 7]\n",
      " [7 1 1 1 1 0 7 7 7 7 7 7 7 7 7 0 0 1 1 0 7]\n",
      " [7 7 7 7 7 7 7 7 7 7 7 7 7 7 7 1 0 1 0 1 7]\n",
      " [7 1 0 0 0 1 7 7 7 7 7 7 7 7 7 7 7 7 7 7 7]\n",
      " [7 1 0 0 1 0 7 7 7 7 7 7 7 7 7 7 7 7 7 7 7]\n",
      " [7 7 7 7 7 7 7 7 7 7 7 7 7 7 7 1 1 0 1 0 7]\n",
      " [7 0 1 1 0 0 7 7 7 7 7 7 7 7 7 1 0 1 0 0 7]\n",
      " [7 1 0 1 1 0 7 7 7 7 7 7 7 7 7 7 7 7 7 7 7]\n",
      " [7 7 7 7 7 7 7 7 7 7 7 7 7 7 7 7 7 7 7 7 7]\n",
      " [7 1 0 1 1 1 7 7 7 7 7 7 7 7 7 7 7 7 7 7 7]\n",
      " [7 0 0 1 1 1 7 7 7 0 0 0 7 7 7 0 1 0 1 1 7]\n",
      " [7 7 7 7 7 7 7 7 7 0 1 1 7 7 7 0 0 0 0 0 7]\n",
      " [7 1 1 0 1 0 7 7 7 7 7 7 7 7 7 7 7 7 7 7 7]\n",
      " [7 1 0 0 0 0 7 7 7 7 7 7 7 7 7 7 7 7 7 7 7]\n",
      " [7 7 7 7 7 7 7 7 7 7 7 7 7 7 7 7 7 7 7 7 7]]\n"
     ]
    }
   ],
   "source": [
    "print(bibliothèquetemp3(0,210,'mardi',18))"
   ]
  },
  {
   "cell_type": "code",
   "execution_count": null,
   "metadata": {},
   "outputs": [],
   "source": []
  },
  {
   "cell_type": "code",
   "execution_count": 186,
   "metadata": {},
   "outputs": [],
   "source": [
    "import tkinter\n"
   ]
  },
  {
   "cell_type": "code",
   "execution_count": 187,
   "metadata": {},
   "outputs": [
    {
     "ename": "NameError",
     "evalue": "name 'Canvas' is not defined",
     "output_type": "error",
     "traceback": [
      "\u001b[1;31m---------------------------------------------------------------------------\u001b[0m",
      "\u001b[1;31mNameError\u001b[0m                                 Traceback (most recent call last)",
      "\u001b[1;32m<ipython-input-187-75c38cea310a>\u001b[0m in \u001b[0;36m<module>\u001b[1;34m\u001b[0m\n\u001b[0;32m      1\u001b[0m \u001b[1;31m# canvas\u001b[0m\u001b[1;33m\u001b[0m\u001b[1;33m\u001b[0m\u001b[1;33m\u001b[0m\u001b[0m\n\u001b[1;32m----> 2\u001b[1;33m \u001b[0mcanvas\u001b[0m \u001b[1;33m=\u001b[0m \u001b[0mCanvas\u001b[0m\u001b[1;33m(\u001b[0m\u001b[0mfenetre\u001b[0m\u001b[1;33m,\u001b[0m \u001b[0mwidth\u001b[0m\u001b[1;33m=\u001b[0m\u001b[1;36m150\u001b[0m\u001b[1;33m,\u001b[0m \u001b[0mheight\u001b[0m\u001b[1;33m=\u001b[0m\u001b[1;36m120\u001b[0m\u001b[1;33m,\u001b[0m \u001b[0mbackground\u001b[0m\u001b[1;33m=\u001b[0m\u001b[1;34m'yellow'\u001b[0m\u001b[1;33m)\u001b[0m\u001b[1;33m\u001b[0m\u001b[1;33m\u001b[0m\u001b[0m\n\u001b[0m\u001b[0;32m      3\u001b[0m \u001b[0mligne1\u001b[0m \u001b[1;33m=\u001b[0m \u001b[0mcanvas\u001b[0m\u001b[1;33m.\u001b[0m\u001b[0mcreate_line\u001b[0m\u001b[1;33m(\u001b[0m\u001b[1;36m75\u001b[0m\u001b[1;33m,\u001b[0m \u001b[1;36m0\u001b[0m\u001b[1;33m,\u001b[0m \u001b[1;36m75\u001b[0m\u001b[1;33m,\u001b[0m \u001b[1;36m120\u001b[0m\u001b[1;33m)\u001b[0m\u001b[1;33m\u001b[0m\u001b[1;33m\u001b[0m\u001b[0m\n\u001b[0;32m      4\u001b[0m \u001b[0mligne2\u001b[0m \u001b[1;33m=\u001b[0m \u001b[0mcanvas\u001b[0m\u001b[1;33m.\u001b[0m\u001b[0mcreate_line\u001b[0m\u001b[1;33m(\u001b[0m\u001b[1;36m0\u001b[0m\u001b[1;33m,\u001b[0m \u001b[1;36m60\u001b[0m\u001b[1;33m,\u001b[0m \u001b[1;36m150\u001b[0m\u001b[1;33m,\u001b[0m \u001b[1;36m60\u001b[0m\u001b[1;33m)\u001b[0m\u001b[1;33m\u001b[0m\u001b[1;33m\u001b[0m\u001b[0m\n\u001b[0;32m      5\u001b[0m \u001b[0mtxt\u001b[0m \u001b[1;33m=\u001b[0m \u001b[0mcanvas\u001b[0m\u001b[1;33m.\u001b[0m\u001b[0mcreate_text\u001b[0m\u001b[1;33m(\u001b[0m\u001b[1;36m75\u001b[0m\u001b[1;33m,\u001b[0m \u001b[1;36m60\u001b[0m\u001b[1;33m,\u001b[0m \u001b[0mtext\u001b[0m\u001b[1;33m=\u001b[0m\u001b[1;34m\"Cible\"\u001b[0m\u001b[1;33m,\u001b[0m \u001b[0mfont\u001b[0m\u001b[1;33m=\u001b[0m\u001b[1;34m\"Arial 16 italic\"\u001b[0m\u001b[1;33m,\u001b[0m \u001b[0mfill\u001b[0m\u001b[1;33m=\u001b[0m\u001b[1;34m\"blue\"\u001b[0m\u001b[1;33m)\u001b[0m\u001b[1;33m\u001b[0m\u001b[1;33m\u001b[0m\u001b[0m\n",
      "\u001b[1;31mNameError\u001b[0m: name 'Canvas' is not defined"
     ]
    }
   ],
   "source": []
  },
  {
   "cell_type": "code",
   "execution_count": null,
   "metadata": {},
   "outputs": [],
   "source": []
  }
 ],
 "metadata": {
  "kernelspec": {
   "display_name": "Python 3",
   "language": "python",
   "name": "python3"
  },
  "language_info": {
   "codemirror_mode": {
    "name": "ipython",
    "version": 3
   },
   "file_extension": ".py",
   "mimetype": "text/x-python",
   "name": "python",
   "nbconvert_exporter": "python",
   "pygments_lexer": "ipython3",
   "version": "3.7.3"
  }
 },
 "nbformat": 4,
 "nbformat_minor": 2
}
